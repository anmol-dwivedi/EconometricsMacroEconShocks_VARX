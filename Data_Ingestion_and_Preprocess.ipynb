{
 "cells": [
  {
   "cell_type": "code",
   "execution_count": 1,
   "id": "de1ac84e-2efb-4a8d-9d5c-369ccb185603",
   "metadata": {},
   "outputs": [],
   "source": [
    "import numpy as np\n",
    "import pandas as pd\n",
    "import seaborn as sns\n",
    "import matplotlib.pyplot as plt\n",
    "import datetime\n",
    "import sys\n",
    "import os\n",
    "import openpyxl\n",
    "import xlrd"
   ]
  },
  {
   "cell_type": "code",
   "execution_count": 2,
   "id": "8a5525a6-0ef8-4aae-9b70-44dea7bc3bc7",
   "metadata": {},
   "outputs": [],
   "source": [
    "# !pip install xlrd\n",
    "# !pip install openpyxl"
   ]
  },
  {
   "cell_type": "markdown",
   "id": "68eba0b5-58cd-4730-8c16-b38a66b1997e",
   "metadata": {},
   "source": [
    "# Read in the Data"
   ]
  },
  {
   "cell_type": "code",
   "execution_count": 3,
   "id": "74465122-30e7-481c-87e7-470982034ee2",
   "metadata": {},
   "outputs": [],
   "source": [
    "import pandas as pd\n",
    "\n",
    "def preprocess_and_filter_dates(df, date_column, drop_columns=None, **rename_dict):\n",
    "    \"\"\"\n",
    "    Preprocesses the given date column in the DataFrame.\n",
    "    Converts it to 'Month Year' format, checks for the full date range from Jan 2013 to Oct 2024,\n",
    "    sorts the DataFrame, filters the data to keep only records within the date range,\n",
    "    renames the date column to 'Date', renames other columns using provided keyword arguments,\n",
    "    drops specified columns, and resets the index of the DataFrame.\n",
    "    \n",
    "    Parameters:\n",
    "    - df (pd.DataFrame): The input DataFrame\n",
    "    - date_column (str): The name of the date column to be processed and renamed to 'Date'\n",
    "    - drop_columns (list, optional): List of columns to drop from the DataFrame\n",
    "    - **rename_dict: Keyword arguments for renaming columns, e.g., old_name='new_name'\n",
    "    \n",
    "    Returns:\n",
    "    - pd.DataFrame: The sorted, filtered, renamed, and indexed-reset DataFrame\n",
    "    \"\"\"\n",
    "    # Convert the date column to datetime and extract Month and Year\n",
    "    df[date_column] = pd.to_datetime(df[date_column]).dt.to_period('M').dt.to_timestamp()\n",
    "    \n",
    "    # Rename the date column to 'Date'\n",
    "    df = df.rename(columns={date_column: 'Date'})\n",
    "    \n",
    "    # Define the expected date range\n",
    "    start_date = pd.Timestamp('2013-01-01')\n",
    "    end_date = pd.Timestamp('2024-08-01')\n",
    "    \n",
    "    # Check if the full date range is present\n",
    "    all_dates = pd.date_range(start=start_date, end=end_date, freq='MS')\n",
    "    if not all_dates.isin(df['Date'].unique()).all():\n",
    "        raise ValueError(\"Warning: The complete date range from Jan 2013 to Oct 2024 is not present in the data.\")\n",
    "    \n",
    "    # Sort the DataFrame by the 'Date' column in ascending order\n",
    "    df = df.sort_values(by='Date')\n",
    "    \n",
    "    # Filter the data to keep only records within the date range\n",
    "    df = df[(df['Date'] >= start_date) & (df['Date'] <= end_date)]\n",
    "    \n",
    "    # Rename other columns using the keyword arguments\n",
    "    if rename_dict:\n",
    "        df = df.rename(columns=rename_dict)\n",
    "    \n",
    "    # Drop specified columns if drop_columns is provided\n",
    "    if drop_columns:\n",
    "        df = df.drop(columns=drop_columns)\n",
    "    \n",
    "    # Reset the index of the DataFrame\n",
    "    df = df.reset_index(drop=True)\n",
    "    \n",
    "    return df\n"
   ]
  },
  {
   "cell_type": "markdown",
   "id": "7a3a569a-529b-4909-af17-cd1b8b41aa1f",
   "metadata": {},
   "source": [
    "## Averge Hourly Earning"
   ]
  },
  {
   "cell_type": "code",
   "execution_count": 4,
   "id": "c3957d30-e050-4d3e-a83b-4c51bb296081",
   "metadata": {},
   "outputs": [
    {
     "data": {
      "text/html": [
       "<div>\n",
       "<style scoped>\n",
       "    .dataframe tbody tr th:only-of-type {\n",
       "        vertical-align: middle;\n",
       "    }\n",
       "\n",
       "    .dataframe tbody tr th {\n",
       "        vertical-align: top;\n",
       "    }\n",
       "\n",
       "    .dataframe thead th {\n",
       "        text-align: right;\n",
       "    }\n",
       "</style>\n",
       "<table border=\"1\" class=\"dataframe\">\n",
       "  <thead>\n",
       "    <tr style=\"text-align: right;\">\n",
       "      <th></th>\n",
       "      <th>DATE</th>\n",
       "      <th>CES0500000003</th>\n",
       "    </tr>\n",
       "  </thead>\n",
       "  <tbody>\n",
       "    <tr>\n",
       "      <th>0</th>\n",
       "      <td>2006-03-01</td>\n",
       "      <td>20.05</td>\n",
       "    </tr>\n",
       "    <tr>\n",
       "      <th>1</th>\n",
       "      <td>2006-04-01</td>\n",
       "      <td>20.15</td>\n",
       "    </tr>\n",
       "    <tr>\n",
       "      <th>2</th>\n",
       "      <td>2006-05-01</td>\n",
       "      <td>20.13</td>\n",
       "    </tr>\n",
       "    <tr>\n",
       "      <th>3</th>\n",
       "      <td>2006-06-01</td>\n",
       "      <td>20.23</td>\n",
       "    </tr>\n",
       "    <tr>\n",
       "      <th>4</th>\n",
       "      <td>2006-07-01</td>\n",
       "      <td>20.29</td>\n",
       "    </tr>\n",
       "    <tr>\n",
       "      <th>5</th>\n",
       "      <td>2006-08-01</td>\n",
       "      <td>20.32</td>\n",
       "    </tr>\n",
       "    <tr>\n",
       "      <th>6</th>\n",
       "      <td>2006-09-01</td>\n",
       "      <td>20.41</td>\n",
       "    </tr>\n",
       "    <tr>\n",
       "      <th>7</th>\n",
       "      <td>2006-10-01</td>\n",
       "      <td>20.43</td>\n",
       "    </tr>\n",
       "    <tr>\n",
       "      <th>8</th>\n",
       "      <td>2006-11-01</td>\n",
       "      <td>20.49</td>\n",
       "    </tr>\n",
       "    <tr>\n",
       "      <th>9</th>\n",
       "      <td>2006-12-01</td>\n",
       "      <td>20.57</td>\n",
       "    </tr>\n",
       "  </tbody>\n",
       "</table>\n",
       "</div>"
      ],
      "text/plain": [
       "         DATE  CES0500000003\n",
       "0  2006-03-01          20.05\n",
       "1  2006-04-01          20.15\n",
       "2  2006-05-01          20.13\n",
       "3  2006-06-01          20.23\n",
       "4  2006-07-01          20.29\n",
       "5  2006-08-01          20.32\n",
       "6  2006-09-01          20.41\n",
       "7  2006-10-01          20.43\n",
       "8  2006-11-01          20.49\n",
       "9  2006-12-01          20.57"
      ]
     },
     "execution_count": 4,
     "metadata": {},
     "output_type": "execute_result"
    }
   ],
   "source": [
    "df_avg_hourly_earning = pd.read_csv(\"Average Hourly Earnings of All Employees, Total Private_FRED.csv\")\n",
    "df_avg_hourly_earning.head(10)"
   ]
  },
  {
   "cell_type": "code",
   "execution_count": 5,
   "id": "e76ad0e2-dbe7-4f6e-a910-96ac4ad41c92",
   "metadata": {},
   "outputs": [
    {
     "data": {
      "text/html": [
       "<div>\n",
       "<style scoped>\n",
       "    .dataframe tbody tr th:only-of-type {\n",
       "        vertical-align: middle;\n",
       "    }\n",
       "\n",
       "    .dataframe tbody tr th {\n",
       "        vertical-align: top;\n",
       "    }\n",
       "\n",
       "    .dataframe thead th {\n",
       "        text-align: right;\n",
       "    }\n",
       "</style>\n",
       "<table border=\"1\" class=\"dataframe\">\n",
       "  <thead>\n",
       "    <tr style=\"text-align: right;\">\n",
       "      <th></th>\n",
       "      <th>Date</th>\n",
       "      <th>Average_Hourly_Earning</th>\n",
       "    </tr>\n",
       "  </thead>\n",
       "  <tbody>\n",
       "    <tr>\n",
       "      <th>0</th>\n",
       "      <td>2013-01-01</td>\n",
       "      <td>23.75</td>\n",
       "    </tr>\n",
       "    <tr>\n",
       "      <th>1</th>\n",
       "      <td>2013-02-01</td>\n",
       "      <td>23.78</td>\n",
       "    </tr>\n",
       "    <tr>\n",
       "      <th>2</th>\n",
       "      <td>2013-03-01</td>\n",
       "      <td>23.80</td>\n",
       "    </tr>\n",
       "  </tbody>\n",
       "</table>\n",
       "</div>"
      ],
      "text/plain": [
       "        Date  Average_Hourly_Earning\n",
       "0 2013-01-01                   23.75\n",
       "1 2013-02-01                   23.78\n",
       "2 2013-03-01                   23.80"
      ]
     },
     "execution_count": 5,
     "metadata": {},
     "output_type": "execute_result"
    }
   ],
   "source": [
    "df_Avg_Hourly_Earning = preprocess_and_filter_dates(df_avg_hourly_earning,\n",
    "                                                    'DATE',\n",
    "                                                   CES0500000003='Average_Hourly_Earning')\n",
    "df_Avg_Hourly_Earning.head(3)"
   ]
  },
  {
   "cell_type": "code",
   "execution_count": 6,
   "id": "e189ca6e-1947-4249-8259-f82c2c882b58",
   "metadata": {},
   "outputs": [
    {
     "data": {
      "text/html": [
       "<div>\n",
       "<style scoped>\n",
       "    .dataframe tbody tr th:only-of-type {\n",
       "        vertical-align: middle;\n",
       "    }\n",
       "\n",
       "    .dataframe tbody tr th {\n",
       "        vertical-align: top;\n",
       "    }\n",
       "\n",
       "    .dataframe thead th {\n",
       "        text-align: right;\n",
       "    }\n",
       "</style>\n",
       "<table border=\"1\" class=\"dataframe\">\n",
       "  <thead>\n",
       "    <tr style=\"text-align: right;\">\n",
       "      <th></th>\n",
       "      <th>Date</th>\n",
       "      <th>Average_Hourly_Earning</th>\n",
       "    </tr>\n",
       "  </thead>\n",
       "  <tbody>\n",
       "    <tr>\n",
       "      <th>137</th>\n",
       "      <td>2024-06-01</td>\n",
       "      <td>34.99</td>\n",
       "    </tr>\n",
       "    <tr>\n",
       "      <th>138</th>\n",
       "      <td>2024-07-01</td>\n",
       "      <td>35.07</td>\n",
       "    </tr>\n",
       "    <tr>\n",
       "      <th>139</th>\n",
       "      <td>2024-08-01</td>\n",
       "      <td>35.22</td>\n",
       "    </tr>\n",
       "  </tbody>\n",
       "</table>\n",
       "</div>"
      ],
      "text/plain": [
       "          Date  Average_Hourly_Earning\n",
       "137 2024-06-01                   34.99\n",
       "138 2024-07-01                   35.07\n",
       "139 2024-08-01                   35.22"
      ]
     },
     "execution_count": 6,
     "metadata": {},
     "output_type": "execute_result"
    }
   ],
   "source": [
    "df_Avg_Hourly_Earning.tail(3)"
   ]
  },
  {
   "cell_type": "markdown",
   "id": "6a5dd797-8647-40d9-a75c-f7378087f704",
   "metadata": {},
   "source": [
    "## Baltic Dry Index Historical Data "
   ]
  },
  {
   "cell_type": "code",
   "execution_count": 7,
   "id": "0c13832f-15b7-445c-89ed-a266dc819e20",
   "metadata": {},
   "outputs": [
    {
     "data": {
      "text/html": [
       "<div>\n",
       "<style scoped>\n",
       "    .dataframe tbody tr th:only-of-type {\n",
       "        vertical-align: middle;\n",
       "    }\n",
       "\n",
       "    .dataframe tbody tr th {\n",
       "        vertical-align: top;\n",
       "    }\n",
       "\n",
       "    .dataframe thead th {\n",
       "        text-align: right;\n",
       "    }\n",
       "</style>\n",
       "<table border=\"1\" class=\"dataframe\">\n",
       "  <thead>\n",
       "    <tr style=\"text-align: right;\">\n",
       "      <th></th>\n",
       "      <th>Date</th>\n",
       "      <th>Price</th>\n",
       "      <th>Open</th>\n",
       "      <th>High</th>\n",
       "      <th>Low</th>\n",
       "      <th>Vol.</th>\n",
       "      <th>Change %</th>\n",
       "    </tr>\n",
       "  </thead>\n",
       "  <tbody>\n",
       "    <tr>\n",
       "      <th>0</th>\n",
       "      <td>11/8/2024</td>\n",
       "      <td>1495.0</td>\n",
       "      <td>1495.0</td>\n",
       "      <td>1495.0</td>\n",
       "      <td>1495.0</td>\n",
       "      <td>NaN</td>\n",
       "      <td>0.030</td>\n",
       "    </tr>\n",
       "    <tr>\n",
       "      <th>1</th>\n",
       "      <td>11/7/2024</td>\n",
       "      <td>1451.0</td>\n",
       "      <td>1451.0</td>\n",
       "      <td>1451.0</td>\n",
       "      <td>1451.0</td>\n",
       "      <td>NaN</td>\n",
       "      <td>0.017</td>\n",
       "    </tr>\n",
       "    <tr>\n",
       "      <th>2</th>\n",
       "      <td>11/6/2024</td>\n",
       "      <td>1427.0</td>\n",
       "      <td>1427.0</td>\n",
       "      <td>1427.0</td>\n",
       "      <td>1427.0</td>\n",
       "      <td>NaN</td>\n",
       "      <td>0.016</td>\n",
       "    </tr>\n",
       "    <tr>\n",
       "      <th>3</th>\n",
       "      <td>11/5/2024</td>\n",
       "      <td>1405.0</td>\n",
       "      <td>1405.0</td>\n",
       "      <td>1405.0</td>\n",
       "      <td>1405.0</td>\n",
       "      <td>NaN</td>\n",
       "      <td>0.023</td>\n",
       "    </tr>\n",
       "  </tbody>\n",
       "</table>\n",
       "</div>"
      ],
      "text/plain": [
       "        Date   Price    Open    High     Low  Vol.  Change %\n",
       "0  11/8/2024  1495.0  1495.0  1495.0  1495.0   NaN     0.030\n",
       "1  11/7/2024  1451.0  1451.0  1451.0  1451.0   NaN     0.017\n",
       "2  11/6/2024  1427.0  1427.0  1427.0  1427.0   NaN     0.016\n",
       "3  11/5/2024  1405.0  1405.0  1405.0  1405.0   NaN     0.023"
      ]
     },
     "execution_count": 7,
     "metadata": {},
     "output_type": "execute_result"
    }
   ],
   "source": [
    "# Read the CSV file and convert specific columns to numeric\n",
    "df2 = pd.read_csv(\n",
    "    'Baltic Dry Index Historical Data monthly(2012-present)_Investing.com.csv',\n",
    "    converters={\n",
    "        'Price': pd.to_numeric,\n",
    "        'Open': pd.to_numeric,\n",
    "        'High': pd.to_numeric,\n",
    "        'Low': pd.to_numeric\n",
    "    }\n",
    ")\n",
    "\n",
    "df2.head(4)"
   ]
  },
  {
   "cell_type": "code",
   "execution_count": 8,
   "id": "38dc8b17-70ba-45a8-89ff-3926757e03c4",
   "metadata": {},
   "outputs": [
    {
     "name": "stdout",
     "output_type": "stream",
     "text": [
      "<class 'pandas.core.frame.DataFrame'>\n",
      "RangeIndex: 2998 entries, 0 to 2997\n",
      "Data columns (total 7 columns):\n",
      " #   Column    Non-Null Count  Dtype  \n",
      "---  ------    --------------  -----  \n",
      " 0   Date      2998 non-null   object \n",
      " 1   Price     2998 non-null   float64\n",
      " 2   Open      2998 non-null   float64\n",
      " 3   High      2998 non-null   float64\n",
      " 4   Low       2998 non-null   float64\n",
      " 5   Vol.      0 non-null      float64\n",
      " 6   Change %  2998 non-null   float64\n",
      "dtypes: float64(6), object(1)\n",
      "memory usage: 164.1+ KB\n"
     ]
    }
   ],
   "source": [
    "df2.info()"
   ]
  },
  {
   "cell_type": "code",
   "execution_count": 9,
   "id": "174e5ff8-f867-4e51-b31c-4945930f6798",
   "metadata": {},
   "outputs": [],
   "source": [
    "# # Convert numeric columns to float\n",
    "# df2[['Price', 'Open', 'High', 'Low']] = df2[['Price', 'Open', 'High', 'Low']].apply(pd.to_numeric, errors='coerce')\n",
    "\n",
    "# # Remove the '%' sign from 'Change %' and convert to float\n",
    "# df2['Change %'] = df2['Change %'].str.replace('%', '').astype(float)"
   ]
  },
  {
   "cell_type": "markdown",
   "id": "52d3747a-5fed-4d35-ac50-aba70808670b",
   "metadata": {},
   "source": [
    "### Converting from a Daily Level dataset to a Montly level dataset"
   ]
  },
  {
   "cell_type": "code",
   "execution_count": 10,
   "id": "34607dff-55e4-415e-b2eb-a3e71fbfda74",
   "metadata": {},
   "outputs": [
    {
     "name": "stdout",
     "output_type": "stream",
     "text": [
      "         Price    Open    High     Low  Vol.  Change %       Date\n",
      "0  1026.000000  1026.0  1026.0  1026.0   0.0 -0.016000 2012-10-01\n",
      "1  1024.636364  1086.0  1104.0   916.0   0.0  0.002773 2012-11-01\n",
      "2   855.687500   699.0  1077.0   699.0   0.0 -0.026937 2012-12-01\n",
      "3   770.590909   760.0   838.0   698.0   0.0  0.004045 2013-01-01\n",
      "4   744.950000   757.0   757.0   735.0   0.0 -0.000250 2013-02-01\n"
     ]
    }
   ],
   "source": [
    "df2['Date'] = pd.to_datetime(df2['Date'])  # Convert Date to datetime\n",
    "\n",
    "# Extract the year and month from the Date column\n",
    "df2['YearMonth'] = df2['Date'].dt.to_period('M')\n",
    "\n",
    "# Group by YearMonth and aggregate\n",
    "monthly_df_baltic = df2.groupby('YearMonth').agg({\n",
    "    'Price': 'mean',            # Average Price for the month\n",
    "    'Open': 'first',            # Opening Price of the first day of the month\n",
    "    'High': 'max',              # Highest Price in the month\n",
    "    'Low': 'min',               # Lowest Price in the month\n",
    "    'Vol.': 'sum',              # Total volume for the month (if volume data is available)\n",
    "    'Change %': 'mean'          # Average Change % for the month\n",
    "}).reset_index()                # Reset index to keep YearMonth as a column\n",
    "\n",
    "# Convert YearMonth back to a datetime object in the format you prefer\n",
    "monthly_df_baltic['Date'] = monthly_df_baltic['YearMonth'].dt.to_timestamp()\n",
    "\n",
    "# Drop the YearMonth column, if you only want to keep the Date\n",
    "monthly_df_baltic = monthly_df_baltic.drop(columns=['YearMonth'])\n",
    "\n",
    "# Display the first few rows of the monthly data\n",
    "print(monthly_df_baltic.head())"
   ]
  },
  {
   "cell_type": "code",
   "execution_count": 11,
   "id": "6cb09b20-24e0-4536-b687-ef19793f7379",
   "metadata": {},
   "outputs": [
    {
     "data": {
      "text/html": [
       "<div>\n",
       "<style scoped>\n",
       "    .dataframe tbody tr th:only-of-type {\n",
       "        vertical-align: middle;\n",
       "    }\n",
       "\n",
       "    .dataframe tbody tr th {\n",
       "        vertical-align: top;\n",
       "    }\n",
       "\n",
       "    .dataframe thead th {\n",
       "        text-align: right;\n",
       "    }\n",
       "</style>\n",
       "<table border=\"1\" class=\"dataframe\">\n",
       "  <thead>\n",
       "    <tr style=\"text-align: right;\">\n",
       "      <th></th>\n",
       "      <th>Price</th>\n",
       "      <th>Open</th>\n",
       "      <th>High</th>\n",
       "      <th>Low</th>\n",
       "      <th>Vol.</th>\n",
       "      <th>Change %</th>\n",
       "      <th>Date</th>\n",
       "    </tr>\n",
       "  </thead>\n",
       "  <tbody>\n",
       "    <tr>\n",
       "      <th>0</th>\n",
       "      <td>1026.000000</td>\n",
       "      <td>1026.0</td>\n",
       "      <td>1026.0</td>\n",
       "      <td>1026.0</td>\n",
       "      <td>0.0</td>\n",
       "      <td>-0.016000</td>\n",
       "      <td>2012-10-01</td>\n",
       "    </tr>\n",
       "    <tr>\n",
       "      <th>1</th>\n",
       "      <td>1024.636364</td>\n",
       "      <td>1086.0</td>\n",
       "      <td>1104.0</td>\n",
       "      <td>916.0</td>\n",
       "      <td>0.0</td>\n",
       "      <td>0.002773</td>\n",
       "      <td>2012-11-01</td>\n",
       "    </tr>\n",
       "    <tr>\n",
       "      <th>2</th>\n",
       "      <td>855.687500</td>\n",
       "      <td>699.0</td>\n",
       "      <td>1077.0</td>\n",
       "      <td>699.0</td>\n",
       "      <td>0.0</td>\n",
       "      <td>-0.026937</td>\n",
       "      <td>2012-12-01</td>\n",
       "    </tr>\n",
       "    <tr>\n",
       "      <th>3</th>\n",
       "      <td>770.590909</td>\n",
       "      <td>760.0</td>\n",
       "      <td>838.0</td>\n",
       "      <td>698.0</td>\n",
       "      <td>0.0</td>\n",
       "      <td>0.004045</td>\n",
       "      <td>2013-01-01</td>\n",
       "    </tr>\n",
       "    <tr>\n",
       "      <th>4</th>\n",
       "      <td>744.950000</td>\n",
       "      <td>757.0</td>\n",
       "      <td>757.0</td>\n",
       "      <td>735.0</td>\n",
       "      <td>0.0</td>\n",
       "      <td>-0.000250</td>\n",
       "      <td>2013-02-01</td>\n",
       "    </tr>\n",
       "    <tr>\n",
       "      <th>5</th>\n",
       "      <td>876.100000</td>\n",
       "      <td>910.0</td>\n",
       "      <td>935.0</td>\n",
       "      <td>776.0</td>\n",
       "      <td>0.0</td>\n",
       "      <td>0.009400</td>\n",
       "      <td>2013-03-01</td>\n",
       "    </tr>\n",
       "    <tr>\n",
       "      <th>6</th>\n",
       "      <td>874.000000</td>\n",
       "      <td>863.0</td>\n",
       "      <td>896.0</td>\n",
       "      <td>856.0</td>\n",
       "      <td>0.0</td>\n",
       "      <td>-0.002476</td>\n",
       "      <td>2013-04-01</td>\n",
       "    </tr>\n",
       "    <tr>\n",
       "      <th>7</th>\n",
       "      <td>851.380952</td>\n",
       "      <td>809.0</td>\n",
       "      <td>892.0</td>\n",
       "      <td>809.0</td>\n",
       "      <td>0.0</td>\n",
       "      <td>-0.003095</td>\n",
       "      <td>2013-05-01</td>\n",
       "    </tr>\n",
       "    <tr>\n",
       "      <th>8</th>\n",
       "      <td>940.500000</td>\n",
       "      <td>1171.0</td>\n",
       "      <td>1171.0</td>\n",
       "      <td>801.0</td>\n",
       "      <td>0.0</td>\n",
       "      <td>0.018700</td>\n",
       "      <td>2013-06-01</td>\n",
       "    </tr>\n",
       "    <tr>\n",
       "      <th>9</th>\n",
       "      <td>1123.130435</td>\n",
       "      <td>1062.0</td>\n",
       "      <td>1179.0</td>\n",
       "      <td>1062.0</td>\n",
       "      <td>0.0</td>\n",
       "      <td>-0.004174</td>\n",
       "      <td>2013-07-01</td>\n",
       "    </tr>\n",
       "    <tr>\n",
       "      <th>10</th>\n",
       "      <td>1088.095238</td>\n",
       "      <td>1132.0</td>\n",
       "      <td>1169.0</td>\n",
       "      <td>996.0</td>\n",
       "      <td>0.0</td>\n",
       "      <td>0.003143</td>\n",
       "      <td>2013-08-01</td>\n",
       "    </tr>\n",
       "    <tr>\n",
       "      <th>11</th>\n",
       "      <td>1680.523810</td>\n",
       "      <td>2003.0</td>\n",
       "      <td>2127.0</td>\n",
       "      <td>1139.0</td>\n",
       "      <td>0.0</td>\n",
       "      <td>0.028000</td>\n",
       "      <td>2013-09-01</td>\n",
       "    </tr>\n",
       "    <tr>\n",
       "      <th>12</th>\n",
       "      <td>1883.173913</td>\n",
       "      <td>1504.0</td>\n",
       "      <td>2146.0</td>\n",
       "      <td>1484.0</td>\n",
       "      <td>0.0</td>\n",
       "      <td>-0.012217</td>\n",
       "      <td>2013-10-01</td>\n",
       "    </tr>\n",
       "    <tr>\n",
       "      <th>13</th>\n",
       "      <td>1558.857143</td>\n",
       "      <td>1821.0</td>\n",
       "      <td>1821.0</td>\n",
       "      <td>1483.0</td>\n",
       "      <td>0.0</td>\n",
       "      <td>0.009381</td>\n",
       "      <td>2013-11-01</td>\n",
       "    </tr>\n",
       "    <tr>\n",
       "      <th>14</th>\n",
       "      <td>2178.058824</td>\n",
       "      <td>2277.0</td>\n",
       "      <td>2337.0</td>\n",
       "      <td>1865.0</td>\n",
       "      <td>0.0</td>\n",
       "      <td>0.013765</td>\n",
       "      <td>2013-12-01</td>\n",
       "    </tr>\n",
       "    <tr>\n",
       "      <th>15</th>\n",
       "      <td>1472.409091</td>\n",
       "      <td>1110.0</td>\n",
       "      <td>2113.0</td>\n",
       "      <td>1110.0</td>\n",
       "      <td>0.0</td>\n",
       "      <td>-0.031591</td>\n",
       "      <td>2014-01-01</td>\n",
       "    </tr>\n",
       "    <tr>\n",
       "      <th>16</th>\n",
       "      <td>1139.850000</td>\n",
       "      <td>1258.0</td>\n",
       "      <td>1258.0</td>\n",
       "      <td>1084.0</td>\n",
       "      <td>0.0</td>\n",
       "      <td>0.006350</td>\n",
       "      <td>2014-02-01</td>\n",
       "    </tr>\n",
       "    <tr>\n",
       "      <th>17</th>\n",
       "      <td>1484.142857</td>\n",
       "      <td>1362.0</td>\n",
       "      <td>1621.0</td>\n",
       "      <td>1276.0</td>\n",
       "      <td>0.0</td>\n",
       "      <td>0.004429</td>\n",
       "      <td>2014-03-01</td>\n",
       "    </tr>\n",
       "    <tr>\n",
       "      <th>18</th>\n",
       "      <td>1045.350000</td>\n",
       "      <td>943.0</td>\n",
       "      <td>1316.0</td>\n",
       "      <td>930.0</td>\n",
       "      <td>0.0</td>\n",
       "      <td>-0.018000</td>\n",
       "      <td>2014-04-01</td>\n",
       "    </tr>\n",
       "    <tr>\n",
       "      <th>19</th>\n",
       "      <td>992.666667</td>\n",
       "      <td>934.0</td>\n",
       "      <td>1027.0</td>\n",
       "      <td>934.0</td>\n",
       "      <td>0.0</td>\n",
       "      <td>-0.000381</td>\n",
       "      <td>2014-05-01</td>\n",
       "    </tr>\n",
       "  </tbody>\n",
       "</table>\n",
       "</div>"
      ],
      "text/plain": [
       "          Price    Open    High     Low  Vol.  Change %       Date\n",
       "0   1026.000000  1026.0  1026.0  1026.0   0.0 -0.016000 2012-10-01\n",
       "1   1024.636364  1086.0  1104.0   916.0   0.0  0.002773 2012-11-01\n",
       "2    855.687500   699.0  1077.0   699.0   0.0 -0.026937 2012-12-01\n",
       "3    770.590909   760.0   838.0   698.0   0.0  0.004045 2013-01-01\n",
       "4    744.950000   757.0   757.0   735.0   0.0 -0.000250 2013-02-01\n",
       "5    876.100000   910.0   935.0   776.0   0.0  0.009400 2013-03-01\n",
       "6    874.000000   863.0   896.0   856.0   0.0 -0.002476 2013-04-01\n",
       "7    851.380952   809.0   892.0   809.0   0.0 -0.003095 2013-05-01\n",
       "8    940.500000  1171.0  1171.0   801.0   0.0  0.018700 2013-06-01\n",
       "9   1123.130435  1062.0  1179.0  1062.0   0.0 -0.004174 2013-07-01\n",
       "10  1088.095238  1132.0  1169.0   996.0   0.0  0.003143 2013-08-01\n",
       "11  1680.523810  2003.0  2127.0  1139.0   0.0  0.028000 2013-09-01\n",
       "12  1883.173913  1504.0  2146.0  1484.0   0.0 -0.012217 2013-10-01\n",
       "13  1558.857143  1821.0  1821.0  1483.0   0.0  0.009381 2013-11-01\n",
       "14  2178.058824  2277.0  2337.0  1865.0   0.0  0.013765 2013-12-01\n",
       "15  1472.409091  1110.0  2113.0  1110.0   0.0 -0.031591 2014-01-01\n",
       "16  1139.850000  1258.0  1258.0  1084.0   0.0  0.006350 2014-02-01\n",
       "17  1484.142857  1362.0  1621.0  1276.0   0.0  0.004429 2014-03-01\n",
       "18  1045.350000   943.0  1316.0   930.0   0.0 -0.018000 2014-04-01\n",
       "19   992.666667   934.0  1027.0   934.0   0.0 -0.000381 2014-05-01"
      ]
     },
     "execution_count": 11,
     "metadata": {},
     "output_type": "execute_result"
    }
   ],
   "source": [
    "monthly_df_baltic.head(20)"
   ]
  },
  {
   "cell_type": "code",
   "execution_count": 12,
   "id": "c313f5d8-a93f-4ed4-af03-d076b56639d2",
   "metadata": {},
   "outputs": [
    {
     "data": {
      "text/plain": [
       "Index(['Price', 'Open', 'High', 'Low', 'Vol.', 'Change %', 'Date'], dtype='object')"
      ]
     },
     "execution_count": 12,
     "metadata": {},
     "output_type": "execute_result"
    }
   ],
   "source": [
    "monthly_df_baltic.columns"
   ]
  },
  {
   "cell_type": "code",
   "execution_count": 13,
   "id": "0cbb5cdd-b505-420b-ace7-4e6b4d1fc1e2",
   "metadata": {},
   "outputs": [],
   "source": [
    "monthly_df_baltic.rename(columns={'Change %': 'Change_Percent'}, inplace=True)"
   ]
  },
  {
   "cell_type": "code",
   "execution_count": 14,
   "id": "1f780409-b477-4d7d-8851-1e092478de7c",
   "metadata": {},
   "outputs": [
    {
     "data": {
      "text/html": [
       "<div>\n",
       "<style scoped>\n",
       "    .dataframe tbody tr th:only-of-type {\n",
       "        vertical-align: middle;\n",
       "    }\n",
       "\n",
       "    .dataframe tbody tr th {\n",
       "        vertical-align: top;\n",
       "    }\n",
       "\n",
       "    .dataframe thead th {\n",
       "        text-align: right;\n",
       "    }\n",
       "</style>\n",
       "<table border=\"1\" class=\"dataframe\">\n",
       "  <thead>\n",
       "    <tr style=\"text-align: right;\">\n",
       "      <th></th>\n",
       "      <th>Trade_Volume_Pct_Change_Index_Value</th>\n",
       "      <th>Date</th>\n",
       "    </tr>\n",
       "  </thead>\n",
       "  <tbody>\n",
       "    <tr>\n",
       "      <th>0</th>\n",
       "      <td>0.004045</td>\n",
       "      <td>2013-01-01</td>\n",
       "    </tr>\n",
       "    <tr>\n",
       "      <th>1</th>\n",
       "      <td>-0.000250</td>\n",
       "      <td>2013-02-01</td>\n",
       "    </tr>\n",
       "    <tr>\n",
       "      <th>2</th>\n",
       "      <td>0.009400</td>\n",
       "      <td>2013-03-01</td>\n",
       "    </tr>\n",
       "  </tbody>\n",
       "</table>\n",
       "</div>"
      ],
      "text/plain": [
       "   Trade_Volume_Pct_Change_Index_Value       Date\n",
       "0                             0.004045 2013-01-01\n",
       "1                            -0.000250 2013-02-01\n",
       "2                             0.009400 2013-03-01"
      ]
     },
     "execution_count": 14,
     "metadata": {},
     "output_type": "execute_result"
    }
   ],
   "source": [
    "df_Global_Shipping_Cost = preprocess_and_filter_dates(monthly_df_baltic,\n",
    "                                                      date_column='Date',\n",
    "                                                      Change_Percent='Trade_Volume_Pct_Change_Index_Value',\n",
    "                                                      drop_columns=['Price', 'Open', 'High', 'Low', 'Vol.'] )\n",
    "df_Global_Shipping_Cost.head(3)"
   ]
  },
  {
   "cell_type": "code",
   "execution_count": 15,
   "id": "ce717e64-9fd1-429b-97f4-f65cc7aad628",
   "metadata": {},
   "outputs": [
    {
     "data": {
      "text/html": [
       "<div>\n",
       "<style scoped>\n",
       "    .dataframe tbody tr th:only-of-type {\n",
       "        vertical-align: middle;\n",
       "    }\n",
       "\n",
       "    .dataframe tbody tr th {\n",
       "        vertical-align: top;\n",
       "    }\n",
       "\n",
       "    .dataframe thead th {\n",
       "        text-align: right;\n",
       "    }\n",
       "</style>\n",
       "<table border=\"1\" class=\"dataframe\">\n",
       "  <thead>\n",
       "    <tr style=\"text-align: right;\">\n",
       "      <th></th>\n",
       "      <th>Trade_Volume_Pct_Change_Index_Value</th>\n",
       "      <th>Date</th>\n",
       "    </tr>\n",
       "  </thead>\n",
       "  <tbody>\n",
       "    <tr>\n",
       "      <th>137</th>\n",
       "      <td>0.006300</td>\n",
       "      <td>2024-06-01</td>\n",
       "    </tr>\n",
       "    <tr>\n",
       "      <th>138</th>\n",
       "      <td>-0.007652</td>\n",
       "      <td>2024-07-01</td>\n",
       "    </tr>\n",
       "    <tr>\n",
       "      <th>139</th>\n",
       "      <td>0.003048</td>\n",
       "      <td>2024-08-01</td>\n",
       "    </tr>\n",
       "  </tbody>\n",
       "</table>\n",
       "</div>"
      ],
      "text/plain": [
       "     Trade_Volume_Pct_Change_Index_Value       Date\n",
       "137                             0.006300 2024-06-01\n",
       "138                            -0.007652 2024-07-01\n",
       "139                             0.003048 2024-08-01"
      ]
     },
     "execution_count": 15,
     "metadata": {},
     "output_type": "execute_result"
    }
   ],
   "source": [
    "df_Global_Shipping_Cost.tail(3)"
   ]
  },
  {
   "cell_type": "markdown",
   "id": "c72235b6-6f71-45aa-88c3-933cb275c072",
   "metadata": {},
   "source": [
    "## Monthly Crude Oil Prices"
   ]
  },
  {
   "cell_type": "code",
   "execution_count": 16,
   "id": "eecafde3-1c03-4591-ab35-5ffce5c7640b",
   "metadata": {},
   "outputs": [
    {
     "data": {
      "text/html": [
       "<div>\n",
       "<style scoped>\n",
       "    .dataframe tbody tr th:only-of-type {\n",
       "        vertical-align: middle;\n",
       "    }\n",
       "\n",
       "    .dataframe tbody tr th {\n",
       "        vertical-align: top;\n",
       "    }\n",
       "\n",
       "    .dataframe thead th {\n",
       "        text-align: right;\n",
       "    }\n",
       "</style>\n",
       "<table border=\"1\" class=\"dataframe\">\n",
       "  <thead>\n",
       "    <tr style=\"text-align: right;\">\n",
       "      <th></th>\n",
       "      <th>Date</th>\n",
       "      <th>U.S. Crude Oil First Purchase Price (Dollars per Barrel)</th>\n",
       "    </tr>\n",
       "  </thead>\n",
       "  <tbody>\n",
       "    <tr>\n",
       "      <th>0</th>\n",
       "      <td>1974-01-15</td>\n",
       "      <td>6.95</td>\n",
       "    </tr>\n",
       "    <tr>\n",
       "      <th>1</th>\n",
       "      <td>1974-02-15</td>\n",
       "      <td>6.87</td>\n",
       "    </tr>\n",
       "    <tr>\n",
       "      <th>2</th>\n",
       "      <td>1974-03-15</td>\n",
       "      <td>6.77</td>\n",
       "    </tr>\n",
       "    <tr>\n",
       "      <th>3</th>\n",
       "      <td>1974-04-15</td>\n",
       "      <td>6.77</td>\n",
       "    </tr>\n",
       "    <tr>\n",
       "      <th>4</th>\n",
       "      <td>1974-05-15</td>\n",
       "      <td>6.87</td>\n",
       "    </tr>\n",
       "  </tbody>\n",
       "</table>\n",
       "</div>"
      ],
      "text/plain": [
       "        Date  U.S. Crude Oil First Purchase Price (Dollars per Barrel)\n",
       "0 1974-01-15                                               6.95       \n",
       "1 1974-02-15                                               6.87       \n",
       "2 1974-03-15                                               6.77       \n",
       "3 1974-04-15                                               6.77       \n",
       "4 1974-05-15                                               6.87       "
      ]
     },
     "execution_count": 16,
     "metadata": {},
     "output_type": "execute_result"
    }
   ],
   "source": [
    "df3 = pd.read_excel('Crude Oil Prices Monthly_US energy information administration(EIA).xls', sheet_name='Data 1')\n",
    "df3.head()"
   ]
  },
  {
   "cell_type": "code",
   "execution_count": 17,
   "id": "9a4cc68b-1671-49c8-b7ff-6639b1dffc4d",
   "metadata": {},
   "outputs": [],
   "source": [
    "df3.rename(columns={'U.S. Crude Oil First Purchase Price (Dollars per Barrel)':'US_Crude_Oil_Prices_Dollar_Per_Barrel'}, inplace=True)"
   ]
  },
  {
   "cell_type": "code",
   "execution_count": 18,
   "id": "db3cb6f4-774b-45e5-811b-b232bc435bbb",
   "metadata": {},
   "outputs": [],
   "source": [
    "df_Crude_Oil_Prices_Monthly = preprocess_and_filter_dates(df3,\n",
    "                                                      date_column='Date')"
   ]
  },
  {
   "cell_type": "code",
   "execution_count": 19,
   "id": "71b379f0-676f-461b-8380-afad3fcf4588",
   "metadata": {},
   "outputs": [
    {
     "name": "stdout",
     "output_type": "stream",
     "text": [
      "        Date  US_Crude_Oil_Prices_Dollar_Per_Barrel\n",
      "0 2013-01-01                                  95.00\n",
      "1 2013-02-01                                  95.01\n",
      "2 2013-03-01                                  95.54\n",
      "\n",
      "\n",
      "          Date  US_Crude_Oil_Prices_Dollar_Per_Barrel\n",
      "137 2024-06-01                                  77.45\n",
      "138 2024-07-01                                  79.07\n",
      "139 2024-08-01                                  74.97\n"
     ]
    }
   ],
   "source": [
    "print(df_Crude_Oil_Prices_Monthly.head(3))\n",
    "print('\\n')\n",
    "print(df_Crude_Oil_Prices_Monthly.tail(3))"
   ]
  },
  {
   "cell_type": "markdown",
   "id": "7333a737-3a5d-4568-921b-488e0609a84a",
   "metadata": {},
   "source": [
    "## Federal Funds Effective Rate Monthly"
   ]
  },
  {
   "cell_type": "code",
   "execution_count": 20,
   "id": "da95c0a3-a58f-4821-a01f-4d7646a9ea0b",
   "metadata": {},
   "outputs": [
    {
     "data": {
      "text/html": [
       "<div>\n",
       "<style scoped>\n",
       "    .dataframe tbody tr th:only-of-type {\n",
       "        vertical-align: middle;\n",
       "    }\n",
       "\n",
       "    .dataframe tbody tr th {\n",
       "        vertical-align: top;\n",
       "    }\n",
       "\n",
       "    .dataframe thead th {\n",
       "        text-align: right;\n",
       "    }\n",
       "</style>\n",
       "<table border=\"1\" class=\"dataframe\">\n",
       "  <thead>\n",
       "    <tr style=\"text-align: right;\">\n",
       "      <th></th>\n",
       "      <th>DATE</th>\n",
       "      <th>FEDFUNDS</th>\n",
       "    </tr>\n",
       "  </thead>\n",
       "  <tbody>\n",
       "    <tr>\n",
       "      <th>0</th>\n",
       "      <td>1954-07-01</td>\n",
       "      <td>0.80</td>\n",
       "    </tr>\n",
       "    <tr>\n",
       "      <th>1</th>\n",
       "      <td>1954-08-01</td>\n",
       "      <td>1.22</td>\n",
       "    </tr>\n",
       "    <tr>\n",
       "      <th>2</th>\n",
       "      <td>1954-09-01</td>\n",
       "      <td>1.07</td>\n",
       "    </tr>\n",
       "    <tr>\n",
       "      <th>3</th>\n",
       "      <td>1954-10-01</td>\n",
       "      <td>0.85</td>\n",
       "    </tr>\n",
       "    <tr>\n",
       "      <th>4</th>\n",
       "      <td>1954-11-01</td>\n",
       "      <td>0.83</td>\n",
       "    </tr>\n",
       "  </tbody>\n",
       "</table>\n",
       "</div>"
      ],
      "text/plain": [
       "         DATE  FEDFUNDS\n",
       "0  1954-07-01      0.80\n",
       "1  1954-08-01      1.22\n",
       "2  1954-09-01      1.07\n",
       "3  1954-10-01      0.85\n",
       "4  1954-11-01      0.83"
      ]
     },
     "execution_count": 20,
     "metadata": {},
     "output_type": "execute_result"
    }
   ],
   "source": [
    "df4 = pd.read_csv('Federal Funds Effective Rate_FRED.csv')\n",
    "df4.head(5)"
   ]
  },
  {
   "cell_type": "code",
   "execution_count": 21,
   "id": "e50c15ef-0a85-4f12-b0bf-55b969c236ef",
   "metadata": {},
   "outputs": [],
   "source": [
    "df_Federal_Funds_Rate= preprocess_and_filter_dates(df4,\n",
    "                                                      date_column='DATE',\n",
    "                                                         FEDFUNDS='Federal_Rates_Monthly')"
   ]
  },
  {
   "cell_type": "code",
   "execution_count": 22,
   "id": "5bb41eee-260e-449a-bb26-852f3ba9e75b",
   "metadata": {},
   "outputs": [
    {
     "name": "stdout",
     "output_type": "stream",
     "text": [
      "        Date  Federal_Rates_Monthly\n",
      "0 2013-01-01                   0.14\n",
      "1 2013-02-01                   0.15\n",
      "2 2013-03-01                   0.14\n",
      "\n",
      "\n",
      "          Date  Federal_Rates_Monthly\n",
      "137 2024-06-01                   5.33\n",
      "138 2024-07-01                   5.33\n",
      "139 2024-08-01                   5.33\n"
     ]
    }
   ],
   "source": [
    "print(df_Federal_Funds_Rate.head(3))\n",
    "print('\\n')\n",
    "print(df_Federal_Funds_Rate.tail(3))"
   ]
  },
  {
   "cell_type": "markdown",
   "id": "86826c2e-e049-4750-8f9f-78b3d7f6e390",
   "metadata": {},
   "source": [
    "## Inflation Data Monthly"
   ]
  },
  {
   "cell_type": "code",
   "execution_count": 23,
   "id": "0a4d6097-7bbe-4622-af58-f89217a01a5a",
   "metadata": {},
   "outputs": [
    {
     "data": {
      "text/html": [
       "<div>\n",
       "<style scoped>\n",
       "    .dataframe tbody tr th:only-of-type {\n",
       "        vertical-align: middle;\n",
       "    }\n",
       "\n",
       "    .dataframe tbody tr th {\n",
       "        vertical-align: top;\n",
       "    }\n",
       "\n",
       "    .dataframe thead th {\n",
       "        text-align: right;\n",
       "    }\n",
       "</style>\n",
       "<table border=\"1\" class=\"dataframe\">\n",
       "  <thead>\n",
       "    <tr style=\"text-align: right;\">\n",
       "      <th></th>\n",
       "      <th>Series ID</th>\n",
       "      <th>Year</th>\n",
       "      <th>Period</th>\n",
       "      <th>Label</th>\n",
       "      <th>Value</th>\n",
       "      <th>1-Month Net Change</th>\n",
       "      <th>1-Month % Change</th>\n",
       "    </tr>\n",
       "  </thead>\n",
       "  <tbody>\n",
       "    <tr>\n",
       "      <th>0</th>\n",
       "      <td>CUUR0000SA0</td>\n",
       "      <td>2013</td>\n",
       "      <td>M01</td>\n",
       "      <td>2013 Jan</td>\n",
       "      <td>230.280</td>\n",
       "      <td>NaN</td>\n",
       "      <td>0.3</td>\n",
       "    </tr>\n",
       "    <tr>\n",
       "      <th>1</th>\n",
       "      <td>CUUR0000SA0</td>\n",
       "      <td>2013</td>\n",
       "      <td>M02</td>\n",
       "      <td>2013 Feb</td>\n",
       "      <td>232.166</td>\n",
       "      <td>NaN</td>\n",
       "      <td>0.8</td>\n",
       "    </tr>\n",
       "    <tr>\n",
       "      <th>2</th>\n",
       "      <td>CUUR0000SA0</td>\n",
       "      <td>2013</td>\n",
       "      <td>M03</td>\n",
       "      <td>2013 Mar</td>\n",
       "      <td>232.773</td>\n",
       "      <td>NaN</td>\n",
       "      <td>0.3</td>\n",
       "    </tr>\n",
       "    <tr>\n",
       "      <th>3</th>\n",
       "      <td>CUUR0000SA0</td>\n",
       "      <td>2013</td>\n",
       "      <td>M04</td>\n",
       "      <td>2013 Apr</td>\n",
       "      <td>232.531</td>\n",
       "      <td>NaN</td>\n",
       "      <td>-0.1</td>\n",
       "    </tr>\n",
       "    <tr>\n",
       "      <th>4</th>\n",
       "      <td>CUUR0000SA0</td>\n",
       "      <td>2013</td>\n",
       "      <td>M05</td>\n",
       "      <td>2013 May</td>\n",
       "      <td>232.945</td>\n",
       "      <td>NaN</td>\n",
       "      <td>0.2</td>\n",
       "    </tr>\n",
       "  </tbody>\n",
       "</table>\n",
       "</div>"
      ],
      "text/plain": [
       "     Series ID  Year Period     Label    Value  1-Month Net Change  \\\n",
       "0  CUUR0000SA0  2013    M01  2013 Jan  230.280                 NaN   \n",
       "1  CUUR0000SA0  2013    M02  2013 Feb  232.166                 NaN   \n",
       "2  CUUR0000SA0  2013    M03  2013 Mar  232.773                 NaN   \n",
       "3  CUUR0000SA0  2013    M04  2013 Apr  232.531                 NaN   \n",
       "4  CUUR0000SA0  2013    M05  2013 May  232.945                 NaN   \n",
       "\n",
       "   1-Month % Change  \n",
       "0               0.3  \n",
       "1               0.8  \n",
       "2               0.3  \n",
       "3              -0.1  \n",
       "4               0.2  "
      ]
     },
     "execution_count": 23,
     "metadata": {},
     "output_type": "execute_result"
    }
   ],
   "source": [
    "df5 = pd.read_csv('Inflation_data_monthly(2013-present)_Bureau of Labour Statistics.csv')\n",
    "df5.head(5)"
   ]
  },
  {
   "cell_type": "code",
   "execution_count": 24,
   "id": "783c6b4b-da14-4fbd-995a-ee061f05a9e2",
   "metadata": {},
   "outputs": [
    {
     "data": {
      "text/plain": [
       "Index(['Series ID', 'Year', 'Period', 'Label', 'Value', '1-Month Net Change',\n",
       "       '1-Month % Change'],\n",
       "      dtype='object')"
      ]
     },
     "execution_count": 24,
     "metadata": {},
     "output_type": "execute_result"
    }
   ],
   "source": [
    "df5.columns"
   ]
  },
  {
   "cell_type": "markdown",
   "id": "e1dbcf3c-2aab-4897-ac62-4f7ab7747fb8",
   "metadata": {},
   "source": [
    "For the econometric VAR model, **the most relevant column would likely be the \"Value\" column (i.e., the CPI Value), rather than the \"1-Month % Change\"**.\n",
    "\n",
    "Here's Why:\n",
    "Using the CPI Value (\"Value\" Column):\n",
    "\n",
    "The CPI Value represents the overall price level and is essential for capturing the long-term trends and dynamics in the economy, which is crucial for a VAR model that examines relationships between multiple economic indicators over time.\n",
    "VAR models are designed to analyze the relationships among multiple time series variables, so having the actual CPI values allows you to model the interaction between the level of inflation and other economic variables (e.g., crude oil prices, unemployment rate, etc.) over time.\n",
    "You can always calculate inflation rates or percentage changes from the CPI values if needed for additional analysis.\n",
    "Why Not Use \"1-Month % Change\" Directly:\n",
    "\n",
    "The \"1-Month % Change\" column only shows short-term changes in the CPI and may miss out on the broader economic trends that are important for modeling long-term relationships in a VAR framework.\n",
    "Using the actual CPI values provides more context and is generally preferred for modeling purposes."
   ]
  },
  {
   "cell_type": "code",
   "execution_count": 25,
   "id": "85e568fe-0f57-42c5-b486-104961f6b8f8",
   "metadata": {},
   "outputs": [
    {
     "name": "stderr",
     "output_type": "stream",
     "text": [
      "C:\\Users\\anmol\\AppData\\Local\\Temp\\ipykernel_7460\\1398366478.py:21: UserWarning: Could not infer format, so each element will be parsed individually, falling back to `dateutil`. To ensure parsing is consistent and as-expected, please specify a format.\n",
      "  df[date_column] = pd.to_datetime(df[date_column]).dt.to_period('M').dt.to_timestamp()\n"
     ]
    }
   ],
   "source": [
    "df_inflation_cpi = preprocess_and_filter_dates(df5,\n",
    "                                               date_column='Label',\n",
    "                                               Value='CPI_Value_Inflation',\n",
    "                                               drop_columns=['Series ID', 'Year', 'Period', '1-Month Net Change', '1-Month % Change'])"
   ]
  },
  {
   "cell_type": "code",
   "execution_count": 26,
   "id": "27bfac56-6dbf-4ac5-a912-240c665d0bf3",
   "metadata": {},
   "outputs": [
    {
     "name": "stdout",
     "output_type": "stream",
     "text": [
      "        Date  CPI_Value_Inflation\n",
      "0 2013-01-01              230.280\n",
      "1 2013-02-01              232.166\n",
      "2 2013-03-01              232.773\n",
      "          Date  CPI_Value_Inflation\n",
      "137 2024-06-01              314.175\n",
      "138 2024-07-01              314.540\n",
      "139 2024-08-01              314.796\n"
     ]
    }
   ],
   "source": [
    "print(df_inflation_cpi.head(3))\n",
    "print(df_inflation_cpi.tail(3))"
   ]
  },
  {
   "cell_type": "markdown",
   "id": "3505eb10-4b9c-4ae0-aaf9-37f1d34843c1",
   "metadata": {},
   "source": [
    "## Nominal Broad US Dollar Index"
   ]
  },
  {
   "cell_type": "markdown",
   "id": "2c982807-220a-4895-9570-12c048a6e1b9",
   "metadata": {},
   "source": [
    "**Broad Basket**: The index is \"broad\" because it includes a wide range of currencies from both developed and emerging economies that are significant trading partners of the United States. This gives a more comprehensive picture of the dollar's value compared to just focusing on a small number of currencies.\n",
    "**Purpose**:The index is used to understand the overall strength or weakness of the U.S. dollar in the global market.\n",
    "It is a key indicator for analyzing the impact of exchange rate fluctuations on trade, inflation, and overall economic performance.\n",
    "**Impact on the Economy**:A stronger U.S. dollar makes imports cheaper but can make U.S. exports more expensive for foreign buyers, potentially reducing demand for American goods abroad.\n",
    "A weaker U.S. dollar makes exports more competitive but increases the cost of imports, which can contribute to higher inflation domestically.\n",
    "**Relevance to the Econometric Model**: If you are studying the impact of international factors (like the Russia-Ukraine conflict) on the U.S. economy, the Nominal Broad U.S. Dollar Index can be an important variable. It helps capture how changes in the value of the dollar influence trade balances, import/export prices, and overall economic conditions, which are crucial for understanding the broader economic impacts of global events."
   ]
  },
  {
   "cell_type": "code",
   "execution_count": 27,
   "id": "e1c1842d-9854-40e7-b4b9-746b8cb93b16",
   "metadata": {},
   "outputs": [
    {
     "data": {
      "text/html": [
       "<div>\n",
       "<style scoped>\n",
       "    .dataframe tbody tr th:only-of-type {\n",
       "        vertical-align: middle;\n",
       "    }\n",
       "\n",
       "    .dataframe tbody tr th {\n",
       "        vertical-align: top;\n",
       "    }\n",
       "\n",
       "    .dataframe thead th {\n",
       "        text-align: right;\n",
       "    }\n",
       "</style>\n",
       "<table border=\"1\" class=\"dataframe\">\n",
       "  <thead>\n",
       "    <tr style=\"text-align: right;\">\n",
       "      <th></th>\n",
       "      <th>DATE</th>\n",
       "      <th>TWEXBGSMTH</th>\n",
       "    </tr>\n",
       "  </thead>\n",
       "  <tbody>\n",
       "    <tr>\n",
       "      <th>0</th>\n",
       "      <td>2006-01-01</td>\n",
       "      <td>100.0000</td>\n",
       "    </tr>\n",
       "    <tr>\n",
       "      <th>1</th>\n",
       "      <td>2006-02-01</td>\n",
       "      <td>100.2112</td>\n",
       "    </tr>\n",
       "    <tr>\n",
       "      <th>2</th>\n",
       "      <td>2006-03-01</td>\n",
       "      <td>100.4281</td>\n",
       "    </tr>\n",
       "  </tbody>\n",
       "</table>\n",
       "</div>"
      ],
      "text/plain": [
       "         DATE  TWEXBGSMTH\n",
       "0  2006-01-01    100.0000\n",
       "1  2006-02-01    100.2112\n",
       "2  2006-03-01    100.4281"
      ]
     },
     "execution_count": 27,
     "metadata": {},
     "output_type": "execute_result"
    }
   ],
   "source": [
    "df6 = pd.read_csv('Nominal Broad U.S. Dollar Index_FRED.csv')\n",
    "df6.head(3)"
   ]
  },
  {
   "cell_type": "code",
   "execution_count": 28,
   "id": "02a5fa2a-6d24-4ef7-9edc-3ff9cf632f87",
   "metadata": {},
   "outputs": [],
   "source": [
    "df_nominal_broad_usd_index = preprocess_and_filter_dates(df6,\n",
    "                                               date_column='DATE',\n",
    "                                               TWEXBGSMTH='Nominal_Broad_US_Dollar_Index')\n",
    "                                               # drop_columns=['Series ID', 'Year', 'Period', '1-Month Net Change', '1-Month % Change'])"
   ]
  },
  {
   "cell_type": "code",
   "execution_count": 29,
   "id": "86c2c127-6ad0-480f-b692-8099231867d7",
   "metadata": {},
   "outputs": [
    {
     "name": "stdout",
     "output_type": "stream",
     "text": [
      "        Date  Nominal_Broad_US_Dollar_Index\n",
      "0 2013-01-01                        90.8255\n",
      "1 2013-02-01                        91.5509\n",
      "2 2013-03-01                        92.4132\n",
      "          Date  Nominal_Broad_US_Dollar_Index\n",
      "137 2024-06-01                       124.0309\n",
      "138 2024-07-01                       123.7208\n",
      "139 2024-08-01                       122.8802\n"
     ]
    }
   ],
   "source": [
    "print(df_nominal_broad_usd_index.head(3))\n",
    "print(df_nominal_broad_usd_index.tail(3))"
   ]
  },
  {
   "cell_type": "markdown",
   "id": "1124d357-bc06-4550-ad4b-a4940ebe8d85",
   "metadata": {},
   "source": [
    "## Producer Price Index by Commodity (All Commodities)"
   ]
  },
  {
   "cell_type": "markdown",
   "id": "a8e3addf-244e-40fb-b002-ee5492a8da8a",
   "metadata": {},
   "source": [
    "The Producer Price Index (PPI) by Commodity: All Commodities is an economic indicator that measures the average change over time in the selling prices received by domestic producers for their output. Unlike the Consumer Price Index (CPI), which measures price changes from the perspective of the consumer, the PPI captures price changes from the perspective of the producer.\n",
    "\n",
    "Key Points About the PPI by Commodity: All Commodities\n",
    "\n",
    "**Scope**:The index covers a broad range of commodities produced in the United States, including goods like energy products, food, metals, and other raw materials.It provides an overall measure of inflation at the producer level, reflecting the prices that producers receive for their goods before they reach consumers.\n",
    "\n",
    "**Frequency**:The index is typically reported on a monthly basis, making it suitable for analyzing short-term and long-term trends in producer prices.\n",
    "\n",
    "**Uses**:Inflation Analysis: The PPI is used to monitor inflationary pressures in the economy, especially in the early stages of the production process. Rising producer prices often signal future increases in consumer prices.\n",
    "Economic Forecasting: Economists use the PPI to forecast inflation and assess economic conditions. It provides insights into the cost pressures facing businesses, which can affect pricing strategies and profit margins.\n",
    "Policy Making: Central banks and policymakers monitor the PPI to inform monetary policy decisions, as changes in producer prices can influence overall inflation and economic stability.\n",
    "\n",
    "**Relevance to Your Econometric Model**\n",
    "The PPI by Commodity: All Commodities can be an important variable in your VAR model if you are studying the impact of global events (like the Russia-Ukraine conflict) on inflation and economic conditions in the U.S.\n",
    "Changes in producer prices can be influenced by global commodity markets, supply chain disruptions, and international trade dynamics, making the PPI a key indicator of economic pressures from external shocks."
   ]
  },
  {
   "cell_type": "code",
   "execution_count": 30,
   "id": "d098ce86-7cc1-4ef5-94fd-84250132885a",
   "metadata": {},
   "outputs": [
    {
     "data": {
      "text/html": [
       "<div>\n",
       "<style scoped>\n",
       "    .dataframe tbody tr th:only-of-type {\n",
       "        vertical-align: middle;\n",
       "    }\n",
       "\n",
       "    .dataframe tbody tr th {\n",
       "        vertical-align: top;\n",
       "    }\n",
       "\n",
       "    .dataframe thead th {\n",
       "        text-align: right;\n",
       "    }\n",
       "</style>\n",
       "<table border=\"1\" class=\"dataframe\">\n",
       "  <thead>\n",
       "    <tr style=\"text-align: right;\">\n",
       "      <th></th>\n",
       "      <th>DATE</th>\n",
       "      <th>PPIACO</th>\n",
       "    </tr>\n",
       "  </thead>\n",
       "  <tbody>\n",
       "    <tr>\n",
       "      <th>0</th>\n",
       "      <td>1913-01-01</td>\n",
       "      <td>12.1</td>\n",
       "    </tr>\n",
       "    <tr>\n",
       "      <th>1</th>\n",
       "      <td>1913-02-01</td>\n",
       "      <td>12.0</td>\n",
       "    </tr>\n",
       "    <tr>\n",
       "      <th>2</th>\n",
       "      <td>1913-03-01</td>\n",
       "      <td>12.0</td>\n",
       "    </tr>\n",
       "    <tr>\n",
       "      <th>3</th>\n",
       "      <td>1913-04-01</td>\n",
       "      <td>12.0</td>\n",
       "    </tr>\n",
       "  </tbody>\n",
       "</table>\n",
       "</div>"
      ],
      "text/plain": [
       "         DATE  PPIACO\n",
       "0  1913-01-01    12.1\n",
       "1  1913-02-01    12.0\n",
       "2  1913-03-01    12.0\n",
       "3  1913-04-01    12.0"
      ]
     },
     "execution_count": 30,
     "metadata": {},
     "output_type": "execute_result"
    }
   ],
   "source": [
    "df7 = pd.read_csv('Producer Price Index by Commodity All Commodities (monthly)_FRED.csv')\n",
    "df7.head(4)"
   ]
  },
  {
   "cell_type": "code",
   "execution_count": 31,
   "id": "3fac8ff0-da9b-411b-83ce-f6260248649a",
   "metadata": {},
   "outputs": [],
   "source": [
    "df_producer_price_index_all_commodities = preprocess_and_filter_dates(df7,\n",
    "                                               date_column='DATE',\n",
    "                                               PPIACO='producer_price_index_all_commodities')"
   ]
  },
  {
   "cell_type": "code",
   "execution_count": 32,
   "id": "0129d6d9-3c2e-4102-82a5-025f178ba9b9",
   "metadata": {},
   "outputs": [
    {
     "name": "stdout",
     "output_type": "stream",
     "text": [
      "        Date  producer_price_index_all_commodities\n",
      "0 2013-01-01                                 202.5\n",
      "1 2013-02-01                                 204.3\n",
      "2 2013-03-01                                 204.0\n",
      "          Date  producer_price_index_all_commodities\n",
      "137 2024-06-01                               255.870\n",
      "138 2024-07-01                               257.337\n",
      "139 2024-08-01                               255.487\n"
     ]
    }
   ],
   "source": [
    "print(df_producer_price_index_all_commodities.head(3))\n",
    "print(df_producer_price_index_all_commodities.tail(3))"
   ]
  },
  {
   "cell_type": "markdown",
   "id": "0e0ea93c-56fe-4fc5-b31b-58596ad33b4f",
   "metadata": {},
   "source": [
    "## S&P 500 Data"
   ]
  },
  {
   "cell_type": "markdown",
   "id": "be198f30-eeee-4aaa-afa9-614369072cb0",
   "metadata": {},
   "source": [
    "**Relevance of the S&P 500**\n",
    "The S&P 500 Index is a widely followed stock market index that represents the performance of 500 of the largest publicly traded companies in the United States. It is often used as a barometer for the overall health of the U.S. stock market and economy.Changes in the S&P 500 Index can be influenced by various economic factors, such as interest rates, inflation, and geopolitical events.\n",
    "\n",
    "**Use in Econometric Analysis**\n",
    "If you're analyzing the impact of economic or geopolitical events (like the Russia-Ukraine conflict) on the U.S. economy, the S&P 500 Index is a relevant variable. It reflects investor sentiment, market volatility, and the financial impact of external shocks. The **\"Adj Close\"** column is especially useful for analyzing the long-term performance of the index, as it accounts for factors that could distort the raw closing price."
   ]
  },
  {
   "cell_type": "code",
   "execution_count": 33,
   "id": "bdfd5d13-d37d-4812-92b8-4eccb0a28fc4",
   "metadata": {},
   "outputs": [
    {
     "data": {
      "text/html": [
       "<div>\n",
       "<style scoped>\n",
       "    .dataframe tbody tr th:only-of-type {\n",
       "        vertical-align: middle;\n",
       "    }\n",
       "\n",
       "    .dataframe tbody tr th {\n",
       "        vertical-align: top;\n",
       "    }\n",
       "\n",
       "    .dataframe thead th {\n",
       "        text-align: right;\n",
       "    }\n",
       "</style>\n",
       "<table border=\"1\" class=\"dataframe\">\n",
       "  <thead>\n",
       "    <tr style=\"text-align: right;\">\n",
       "      <th></th>\n",
       "      <th>Date</th>\n",
       "      <th>Open</th>\n",
       "      <th>High</th>\n",
       "      <th>Low</th>\n",
       "      <th>Close</th>\n",
       "      <th>Adj Close</th>\n",
       "      <th>Volume</th>\n",
       "    </tr>\n",
       "  </thead>\n",
       "  <tbody>\n",
       "    <tr>\n",
       "      <th>0</th>\n",
       "      <td>2024-11-11</td>\n",
       "      <td>6008.86</td>\n",
       "      <td>6017.31</td>\n",
       "      <td>5986.69</td>\n",
       "      <td>6001.35</td>\n",
       "      <td>6001.35</td>\n",
       "      <td>2714209000</td>\n",
       "    </tr>\n",
       "    <tr>\n",
       "      <th>1</th>\n",
       "      <td>2024-11-01</td>\n",
       "      <td>5723.22</td>\n",
       "      <td>6017.31</td>\n",
       "      <td>5696.51</td>\n",
       "      <td>6001.35</td>\n",
       "      <td>6001.35</td>\n",
       "      <td>31421830000</td>\n",
       "    </tr>\n",
       "    <tr>\n",
       "      <th>2</th>\n",
       "      <td>2024-10-01</td>\n",
       "      <td>5757.73</td>\n",
       "      <td>5878.46</td>\n",
       "      <td>5674.00</td>\n",
       "      <td>5705.45</td>\n",
       "      <td>5705.45</td>\n",
       "      <td>82412430000</td>\n",
       "    </tr>\n",
       "    <tr>\n",
       "      <th>3</th>\n",
       "      <td>2024-09-01</td>\n",
       "      <td>5623.89</td>\n",
       "      <td>5767.37</td>\n",
       "      <td>5402.62</td>\n",
       "      <td>5762.48</td>\n",
       "      <td>5762.48</td>\n",
       "      <td>79564830000</td>\n",
       "    </tr>\n",
       "  </tbody>\n",
       "</table>\n",
       "</div>"
      ],
      "text/plain": [
       "        Date     Open     High      Low    Close  Adj Close       Volume\n",
       "0 2024-11-11  6008.86  6017.31  5986.69  6001.35    6001.35   2714209000\n",
       "1 2024-11-01  5723.22  6017.31  5696.51  6001.35    6001.35  31421830000\n",
       "2 2024-10-01  5757.73  5878.46  5674.00  5705.45    5705.45  82412430000\n",
       "3 2024-09-01  5623.89  5767.37  5402.62  5762.48    5762.48  79564830000"
      ]
     },
     "execution_count": 33,
     "metadata": {},
     "output_type": "execute_result"
    }
   ],
   "source": [
    "df8 = pd.read_excel('S&P 500_Yahoo.xlsx')\n",
    "df8.head(4)"
   ]
  },
  {
   "cell_type": "code",
   "execution_count": 34,
   "id": "bcd11d2c-9ac0-4a55-83e6-46b56c25f388",
   "metadata": {},
   "outputs": [],
   "source": [
    "df8.rename(columns={'Adj Close':'Adj_Close'}, inplace=True)"
   ]
  },
  {
   "cell_type": "code",
   "execution_count": 35,
   "id": "69a17363-fb20-49d0-b5b4-b46ff318b376",
   "metadata": {},
   "outputs": [
    {
     "data": {
      "text/plain": [
       "Index(['Date', 'Open', 'High', 'Low', 'Close', 'Adj_Close', 'Volume'], dtype='object')"
      ]
     },
     "execution_count": 35,
     "metadata": {},
     "output_type": "execute_result"
    }
   ],
   "source": [
    "df8.columns"
   ]
  },
  {
   "cell_type": "code",
   "execution_count": 36,
   "id": "f0e4e8f1-4f04-4330-8e5f-5a52cfb91763",
   "metadata": {},
   "outputs": [],
   "source": [
    "df_sp500 = preprocess_and_filter_dates(df8,\n",
    "                                       date_column='Date',\n",
    "                                        Adj_Close='Adjusted_Closing_Price',\n",
    "                                        drop_columns=['Open', 'High', 'Low', 'Close', 'Volume'])"
   ]
  },
  {
   "cell_type": "code",
   "execution_count": 37,
   "id": "d18d9c44-48b5-40c8-811b-908ba5946301",
   "metadata": {},
   "outputs": [
    {
     "name": "stdout",
     "output_type": "stream",
     "text": [
      "        Date  Adjusted_Closing_Price\n",
      "0 2013-01-01                 1498.11\n",
      "1 2013-02-01                 1514.68\n",
      "2 2013-03-01                 1569.19\n",
      "          Date  Adjusted_Closing_Price\n",
      "137 2024-06-01                 5460.48\n",
      "138 2024-07-01                 5522.30\n",
      "139 2024-08-01                 5648.40\n"
     ]
    }
   ],
   "source": [
    "print(df_sp500.head(3))\n",
    "print(df_sp500.tail(3))"
   ]
  },
  {
   "cell_type": "markdown",
   "id": "7a4032d3-65cd-49e8-a492-f6c5878f2b5a",
   "metadata": {},
   "source": [
    "## U.S. Exports of Goods by F.A.S. Basis to Russia_FRED"
   ]
  },
  {
   "cell_type": "markdown",
   "id": "e25746e8-b26a-4765-acb7-18132c52fe5d",
   "metadata": {},
   "source": [
    "**Exports of Goods**: Refers to all goods (physical products) that are shipped from the United States to Russia. This includes items such as machinery, agricultural products, technology, and more.\n",
    "\n",
    "\n",
    "F.A.S. (Free Alongside Ship) Basis: The F.A.S. value represents the cost of the exported goods up to the point where they are delivered alongside the ship at the U.S. port of export. It does not include costs associated with shipping, insurance, or any charges incurred after the goods have been placed alongside the vessel.\n",
    "\n",
    "\n",
    "**Why Is This Indicator Important?**\n",
    "- Economic Relationships:This indicator provides insights into the trade relationship between the United States and Russia. Monitoring export trends can help understand economic interdependencies and the impact of geopolitical events on trade flows.\n",
    "- Impact of Geopolitical Events:Events like the Russia-Ukraine conflict can lead to sanctions, trade restrictions, or changes in export volumes. Tracking U.S. exports to Russia helps assess the economic impact of such events on trade.\n",
    "\n",
    "\n",
    "**Use in Economic Analysis:**\n",
    "This data is useful for analyzing how international trade dynamics influence the U.S. economy, especially in response to policy changes or geopolitical tensions. It can also be relevant for studying the impact of trade disruptions on U.S. industries that heavily export to Russia.\n",
    "Use in Your Econometric Model. If your project aims to study the economic impact of the Russia-Ukraine conflict on the U.S. economy, the U.S. Exports to Russia variable can be crucial. It provides a direct measure of how trade flows have been affected, which may have ripple effects on economic indicators like GDP, employment, or industry performance."
   ]
  },
  {
   "cell_type": "code",
   "execution_count": 38,
   "id": "cf3f27e2-32ab-465e-82c2-bd96a93de547",
   "metadata": {},
   "outputs": [
    {
     "data": {
      "text/html": [
       "<div>\n",
       "<style scoped>\n",
       "    .dataframe tbody tr th:only-of-type {\n",
       "        vertical-align: middle;\n",
       "    }\n",
       "\n",
       "    .dataframe tbody tr th {\n",
       "        vertical-align: top;\n",
       "    }\n",
       "\n",
       "    .dataframe thead th {\n",
       "        text-align: right;\n",
       "    }\n",
       "</style>\n",
       "<table border=\"1\" class=\"dataframe\">\n",
       "  <thead>\n",
       "    <tr style=\"text-align: right;\">\n",
       "      <th></th>\n",
       "      <th>DATE</th>\n",
       "      <th>EXP4621</th>\n",
       "    </tr>\n",
       "  </thead>\n",
       "  <tbody>\n",
       "    <tr>\n",
       "      <th>0</th>\n",
       "      <td>1992-01-01</td>\n",
       "      <td>1.3</td>\n",
       "    </tr>\n",
       "    <tr>\n",
       "      <th>1</th>\n",
       "      <td>1992-02-01</td>\n",
       "      <td>66.4</td>\n",
       "    </tr>\n",
       "    <tr>\n",
       "      <th>2</th>\n",
       "      <td>1992-03-01</td>\n",
       "      <td>161.3</td>\n",
       "    </tr>\n",
       "  </tbody>\n",
       "</table>\n",
       "</div>"
      ],
      "text/plain": [
       "         DATE  EXP4621\n",
       "0  1992-01-01      1.3\n",
       "1  1992-02-01     66.4\n",
       "2  1992-03-01    161.3"
      ]
     },
     "execution_count": 38,
     "metadata": {},
     "output_type": "execute_result"
    }
   ],
   "source": [
    "df9 = pd.read_csv('U.S. Exports of Goods by F.A.S. Basis to Russia_FRED.csv')\n",
    "df9.head(3)"
   ]
  },
  {
   "cell_type": "code",
   "execution_count": 39,
   "id": "32f4209d-14e9-4552-8ae3-b87e1a2d79f7",
   "metadata": {},
   "outputs": [],
   "source": [
    "df_US_Export_Goods_Russia = preprocess_and_filter_dates(df9,\n",
    "                                               date_column='DATE',\n",
    "                                               EXP4621='US_Export_to_Russia')\n",
    "                                               # drop_columns=['Open', 'High', 'Low', 'Close', 'Volume'])"
   ]
  },
  {
   "cell_type": "code",
   "execution_count": 40,
   "id": "41c86b01-d6fa-4d2b-8467-8166e4b815d6",
   "metadata": {},
   "outputs": [
    {
     "name": "stdout",
     "output_type": "stream",
     "text": [
      "        Date  US_Export_to_Russia\n",
      "0 2013-01-01           692.919960\n",
      "1 2013-02-01          1008.624490\n",
      "2 2013-03-01           917.892441\n",
      "          Date  US_Export_to_Russia\n",
      "137 2024-06-01            42.336284\n",
      "138 2024-07-01            45.282786\n",
      "139 2024-08-01            54.541501\n"
     ]
    }
   ],
   "source": [
    "print(df_US_Export_Goods_Russia.head(3))\n",
    "print(df_US_Export_Goods_Russia.tail(3))"
   ]
  },
  {
   "cell_type": "markdown",
   "id": "140e1715-685f-43f6-90dd-38f3969d3c77",
   "metadata": {},
   "source": [
    "## Unemployment Rate"
   ]
  },
  {
   "cell_type": "markdown",
   "id": "5807916e-5f53-4485-ab72-2f77d195a4bb",
   "metadata": {},
   "source": [
    "**1. Economic Health Indicator**\n",
    "The unemployment rate reflects the overall health of the economy. High unemployment indicates economic distress, while low unemployment suggests economic strength. By including the unemployment rate in your model, you can analyze how external shocks, such as geopolitical conflicts, influence the labor market.\n",
    "\n",
    "**2. Link to Economic Activity**\n",
    "Changes in the unemployment rate can impact consumer spending, business investment, and economic growth. For instance, if the Russia-Ukraine conflict leads to economic disruptions, you may observe a rise in unemployment, which could negatively affect GDP and economic stability.\n",
    "The unemployment rate can provide insights into how labor market dynamics interact with other economic indicators like inflation, consumer sentiment, and industrial output.\n",
    "\n",
    "**3. Interaction with Inflation (Phillips Curve Relationship)**\n",
    "There is a well-known relationship between unemployment and inflation, often described by the Phillips Curve. Typically, lower unemployment leads to higher inflation as increased demand for goods and services drives prices up. Conversely, higher unemployment often leads to lower inflation.\n",
    "By including the unemployment rate in your model, you can better understand how labor market conditions influence inflation dynamics, especially in the context of external shocks like the conflict.\n",
    "\n",
    "**4. Impact of Geopolitical Events**\n",
    "Geopolitical events like the Russia-Ukraine conflict can have both direct and indirect effects on the U.S. labor market. For example:\n",
    "Direct Impact: Industries that rely on trade with Russia may experience job losses.\n",
    "Indirect Impact: Higher energy prices or supply chain disruptions could affect business operations and employment levels.\n",
    "By including the unemployment rate in your VAR model, you can examine how these impacts unfold over time and how they interact with other economic variables.\n",
    "\n",
    "**5. Policy Implications**\n",
    "The unemployment rate is closely monitored by policymakers, including the Federal Reserve, when making decisions about monetary policy. If the conflict leads to higher unemployment, it could prompt the Fed to adjust interest rates or implement other measures to stabilize the economy.\n",
    "Analyzing the unemployment rate alongside other variables can provide insights into the effectiveness of policy responses.\n",
    "\n",
    "\n",
    "**Use in Your Econometric Model**\n",
    "Including the unemployment rate in your VAR model allows you to capture how labor market conditions respond to external shocks and how these changes influence other economic indicators like inflation, GDP, and consumer sentiment.\n",
    "It also helps in understanding the short-term and long-term effects of the conflict on the U.S. economy, providing a more comprehensive analysis of the economic impact."
   ]
  },
  {
   "cell_type": "code",
   "execution_count": 41,
   "id": "3cc5d663-1b9a-48f3-997b-22333d27eea6",
   "metadata": {},
   "outputs": [
    {
     "data": {
      "text/html": [
       "<div>\n",
       "<style scoped>\n",
       "    .dataframe tbody tr th:only-of-type {\n",
       "        vertical-align: middle;\n",
       "    }\n",
       "\n",
       "    .dataframe tbody tr th {\n",
       "        vertical-align: top;\n",
       "    }\n",
       "\n",
       "    .dataframe thead th {\n",
       "        text-align: right;\n",
       "    }\n",
       "</style>\n",
       "<table border=\"1\" class=\"dataframe\">\n",
       "  <thead>\n",
       "    <tr style=\"text-align: right;\">\n",
       "      <th></th>\n",
       "      <th>DATE</th>\n",
       "      <th>UNRATE</th>\n",
       "    </tr>\n",
       "  </thead>\n",
       "  <tbody>\n",
       "    <tr>\n",
       "      <th>0</th>\n",
       "      <td>1948-01-01</td>\n",
       "      <td>3.4</td>\n",
       "    </tr>\n",
       "    <tr>\n",
       "      <th>1</th>\n",
       "      <td>1948-02-01</td>\n",
       "      <td>3.8</td>\n",
       "    </tr>\n",
       "    <tr>\n",
       "      <th>2</th>\n",
       "      <td>1948-03-01</td>\n",
       "      <td>4.0</td>\n",
       "    </tr>\n",
       "  </tbody>\n",
       "</table>\n",
       "</div>"
      ],
      "text/plain": [
       "         DATE  UNRATE\n",
       "0  1948-01-01     3.4\n",
       "1  1948-02-01     3.8\n",
       "2  1948-03-01     4.0"
      ]
     },
     "execution_count": 41,
     "metadata": {},
     "output_type": "execute_result"
    }
   ],
   "source": [
    "df10 = pd.read_csv('Unemployment Rate_FRED.csv')\n",
    "df10.head(3)"
   ]
  },
  {
   "cell_type": "code",
   "execution_count": 42,
   "id": "66f21811-f942-4e3a-ab5b-3605860eaf58",
   "metadata": {},
   "outputs": [],
   "source": [
    "df_US_Unemployment_Rate = preprocess_and_filter_dates(df10,\n",
    "                                               date_column='DATE',\n",
    "                                               UNRATE='US_Unemployment_Rate')"
   ]
  },
  {
   "cell_type": "code",
   "execution_count": 43,
   "id": "9af56482-79ab-420a-a929-69eb6f6f914a",
   "metadata": {},
   "outputs": [
    {
     "name": "stdout",
     "output_type": "stream",
     "text": [
      "        Date  US_Unemployment_Rate\n",
      "0 2013-01-01                   8.0\n",
      "1 2013-02-01                   7.7\n",
      "2 2013-03-01                   7.5\n",
      "          Date  US_Unemployment_Rate\n",
      "137 2024-06-01                   4.1\n",
      "138 2024-07-01                   4.3\n",
      "139 2024-08-01                   4.2\n"
     ]
    }
   ],
   "source": [
    "print(df_US_Unemployment_Rate.head(3))\n",
    "print(df_US_Unemployment_Rate.tail(3))"
   ]
  },
  {
   "cell_type": "markdown",
   "id": "26a776c6-d567-4773-afe3-c267f47a6fd5",
   "metadata": {},
   "source": [
    "## US Consumer Sentiment "
   ]
  },
  {
   "cell_type": "markdown",
   "id": "c85d6cdc-4dfb-4367-bef1-2ddf9ba54113",
   "metadata": {},
   "source": [
    "The University of Michigan Consumer Sentiment Index measures consumer confidence in the economy based on surveys of households about their financial conditions and future expectations. It's a key indicator of consumer spending, which drives a significant portion of economic activity in the U.S.\n",
    "\n",
    "**Importance for Econometric Model**:\n",
    "- Gauge of Consumer Behavior: It helps assess how geopolitical events like the Russia-Ukraine conflict impact consumer confidence, which can influence spending and overall economic growth.\n",
    "- Early Economic Indicator: Changes in consumer sentiment often precede shifts in economic conditions, making it useful for understanding potential future trends in GDP, inflation, and employment.\n",
    "- Interaction with Other Variables: In a VAR model, it allows for analyzing how consumer sentiment interacts with other economic indicators, providing insights into the ripple effects of economic shocks.\n",
    "- Incorporating this index can enhance your model's ability to capture the impact of external events on consumer-driven economic dynamics."
   ]
  },
  {
   "cell_type": "code",
   "execution_count": 44,
   "id": "608cb8d4-32e7-42f1-be18-7bd771e144f2",
   "metadata": {},
   "outputs": [
    {
     "data": {
      "text/html": [
       "<div>\n",
       "<style scoped>\n",
       "    .dataframe tbody tr th:only-of-type {\n",
       "        vertical-align: middle;\n",
       "    }\n",
       "\n",
       "    .dataframe tbody tr th {\n",
       "        vertical-align: top;\n",
       "    }\n",
       "\n",
       "    .dataframe thead th {\n",
       "        text-align: right;\n",
       "    }\n",
       "</style>\n",
       "<table border=\"1\" class=\"dataframe\">\n",
       "  <thead>\n",
       "    <tr style=\"text-align: right;\">\n",
       "      <th></th>\n",
       "      <th>DATE</th>\n",
       "      <th>UMCSENT</th>\n",
       "    </tr>\n",
       "  </thead>\n",
       "  <tbody>\n",
       "    <tr>\n",
       "      <th>0</th>\n",
       "      <td>2012-01-01</td>\n",
       "      <td>75.0</td>\n",
       "    </tr>\n",
       "    <tr>\n",
       "      <th>1</th>\n",
       "      <td>2012-02-01</td>\n",
       "      <td>75.3</td>\n",
       "    </tr>\n",
       "    <tr>\n",
       "      <th>2</th>\n",
       "      <td>2012-03-01</td>\n",
       "      <td>76.2</td>\n",
       "    </tr>\n",
       "  </tbody>\n",
       "</table>\n",
       "</div>"
      ],
      "text/plain": [
       "         DATE  UMCSENT\n",
       "0  2012-01-01     75.0\n",
       "1  2012-02-01     75.3\n",
       "2  2012-03-01     76.2"
      ]
     },
     "execution_count": 44,
     "metadata": {},
     "output_type": "execute_result"
    }
   ],
   "source": [
    "df11 = pd.read_csv('University of Michigan Consumer Sentiment_FRED.csv')\n",
    "df11.head(3)"
   ]
  },
  {
   "cell_type": "code",
   "execution_count": 45,
   "id": "85cd83f5-0f83-4ac8-95b0-b8d042041f1b",
   "metadata": {},
   "outputs": [],
   "source": [
    "df_US_Consumer_Sentiment = preprocess_and_filter_dates(df11,\n",
    "                                               date_column='DATE',\n",
    "                                               UMCSENT='US_Consumer_Sentiment')"
   ]
  },
  {
   "cell_type": "code",
   "execution_count": 46,
   "id": "4c613ce0-5bd9-4964-b52f-3dc6f65a60bc",
   "metadata": {},
   "outputs": [
    {
     "name": "stdout",
     "output_type": "stream",
     "text": [
      "        Date  US_Consumer_Sentiment\n",
      "0 2013-01-01                   73.8\n",
      "1 2013-02-01                   77.6\n",
      "2 2013-03-01                   78.6\n",
      "          Date  US_Consumer_Sentiment\n",
      "137 2024-06-01                   68.2\n",
      "138 2024-07-01                   66.4\n",
      "139 2024-08-01                   67.9\n"
     ]
    }
   ],
   "source": [
    "print(df_US_Consumer_Sentiment.head(3))\n",
    "print(df_US_Consumer_Sentiment.tail(3))"
   ]
  },
  {
   "cell_type": "markdown",
   "id": "4d2f7d20-3770-4c04-94e0-794752215690",
   "metadata": {},
   "source": [
    "## US Gasoline Prices"
   ]
  },
  {
   "cell_type": "markdown",
   "id": "b0d4ad0b-6fec-4b4d-a491-fc11ba8af5fd",
   "metadata": {},
   "source": [
    "Monthly gasoline prices per barrel are relevant to your econometric model because they reflect the cost of energy, which is a major component of consumer and producer expenses. Here’s why they are important:\n",
    "\n",
    "- Impact on Inflation: Gasoline prices directly affect transportation and production costs, which can lead to higher consumer prices (inflation). Tracking these prices helps understand how energy costs contribute to overall inflation, especially during events like the Russia-Ukraine conflict, which disrupts global energy markets.\n",
    "\n",
    "- Consumer Spending: Higher gasoline prices reduce disposable income, leading to lower consumer spending, which impacts economic growth. By including gasoline prices, your model can capture this economic relationship.\n",
    "\n",
    "- Indicator of Economic Shocks: Sudden increases in gasoline prices often signal economic shocks or supply disruptions. They can reveal how external events (e.g., geopolitical conflicts) impact the economy."
   ]
  },
  {
   "cell_type": "code",
   "execution_count": 47,
   "id": "1ac41cad-5e3c-4991-bff9-5de113322bbf",
   "metadata": {},
   "outputs": [
    {
     "data": {
      "text/html": [
       "<div>\n",
       "<style scoped>\n",
       "    .dataframe tbody tr th:only-of-type {\n",
       "        vertical-align: middle;\n",
       "    }\n",
       "\n",
       "    .dataframe tbody tr th {\n",
       "        vertical-align: top;\n",
       "    }\n",
       "\n",
       "    .dataframe thead th {\n",
       "        text-align: right;\n",
       "    }\n",
       "</style>\n",
       "<table border=\"1\" class=\"dataframe\">\n",
       "  <thead>\n",
       "    <tr style=\"text-align: right;\">\n",
       "      <th></th>\n",
       "      <th>Date</th>\n",
       "      <th>U.S. Regular All Formulations Retail Gasoline Prices (Dollars per Gallon)</th>\n",
       "    </tr>\n",
       "  </thead>\n",
       "  <tbody>\n",
       "    <tr>\n",
       "      <th>0</th>\n",
       "      <td>1990-08-15</td>\n",
       "      <td>NaN</td>\n",
       "    </tr>\n",
       "    <tr>\n",
       "      <th>1</th>\n",
       "      <td>1990-09-15</td>\n",
       "      <td>1.258</td>\n",
       "    </tr>\n",
       "    <tr>\n",
       "      <th>2</th>\n",
       "      <td>1990-10-15</td>\n",
       "      <td>1.335</td>\n",
       "    </tr>\n",
       "  </tbody>\n",
       "</table>\n",
       "</div>"
      ],
      "text/plain": [
       "        Date  \\\n",
       "0 1990-08-15   \n",
       "1 1990-09-15   \n",
       "2 1990-10-15   \n",
       "\n",
       "   U.S. Regular All Formulations Retail Gasoline Prices (Dollars per Gallon)  \n",
       "0                                                NaN                          \n",
       "1                                              1.258                          \n",
       "2                                              1.335                          "
      ]
     },
     "execution_count": 47,
     "metadata": {},
     "output_type": "execute_result"
    }
   ],
   "source": [
    "df12 = pd.read_excel('US Gasoline Prices Monthly_US energy information administration(EIA).xls', sheet_name='Data 1')\n",
    "df12.head(3)"
   ]
  },
  {
   "cell_type": "code",
   "execution_count": 48,
   "id": "876f2dff-39a6-46bd-92da-68535a1470b9",
   "metadata": {},
   "outputs": [
    {
     "data": {
      "text/plain": [
       "Index(['Date', 'U.S. Regular All Formulations Retail Gasoline Prices (Dollars per Gallon)'], dtype='object')"
      ]
     },
     "execution_count": 48,
     "metadata": {},
     "output_type": "execute_result"
    }
   ],
   "source": [
    "df12.columns"
   ]
  },
  {
   "cell_type": "code",
   "execution_count": 49,
   "id": "eb883ecd-923f-468c-a445-2e5cbf9fb30a",
   "metadata": {},
   "outputs": [],
   "source": [
    "df12.rename(columns={'U.S. Regular All Formulations Retail Gasoline Prices (Dollars per Gallon)':'US_Gasoline_Dollars_Per_Barrel'},\n",
    "            inplace=True)"
   ]
  },
  {
   "cell_type": "code",
   "execution_count": 50,
   "id": "89ce1f1a-aa4a-4c09-9962-a563df1ddebe",
   "metadata": {},
   "outputs": [],
   "source": [
    "df_Gasoline_Dollar_Per_Barrel = preprocess_and_filter_dates(df12,\n",
    "                                                           date_column = 'Date',)"
   ]
  },
  {
   "cell_type": "code",
   "execution_count": 51,
   "id": "d1030631-9cd8-4825-a82d-4f606663acc2",
   "metadata": {},
   "outputs": [
    {
     "name": "stdout",
     "output_type": "stream",
     "text": [
      "        Date  US_Gasoline_Dollars_Per_Barrel\n",
      "0 2013-01-01                           3.319\n",
      "1 2013-02-01                           3.670\n",
      "2 2013-03-01                           3.711\n"
     ]
    }
   ],
   "source": [
    "print(df_Gasoline_Dollar_Per_Barrel.head(3))"
   ]
  },
  {
   "cell_type": "markdown",
   "id": "a36e873e-619e-4a24-980b-2178c7fe8c04",
   "metadata": {},
   "source": [
    "## USD to Rubble Data"
   ]
  },
  {
   "cell_type": "markdown",
   "id": "9953946c-9299-467f-aeb8-57e0ae1a5509",
   "metadata": {},
   "source": [
    "Monthly gasoline prices per barrel are relevant to your econometric model because they reflect the cost of energy, which is a major component of consumer and producer expenses. Here’s why they are important:\n",
    "\n",
    "- Impact on Inflation: Gasoline prices directly affect transportation and production costs, which can lead to higher consumer prices (inflation). Tracking these prices helps understand how energy costs contribute to overall inflation, especially during events like the Russia-Ukraine conflict, which disrupts global energy markets.\n",
    "\n",
    " - Consumer Spending: Higher gasoline prices reduce disposable income, leading to lower consumer spending, which impacts economic growth. By including gasoline prices, your model can capture this economic relationship.\n",
    "\n",
    "- Indicator of Economic Shocks: Sudden increases in gasoline prices often signal economic shocks or supply disruptions. They can reveal how external events (e.g., geopolitical conflicts) impact the economy.\n",
    "\n",
    "\n",
    "\n",
    "\n",
    "**Why \"Price\"?**\n",
    "- Represents Energy Costs: The \"Price\" column reflects the cost per barrel of gasoline, which is a critical component of energy expenses in the economy.\n",
    "- Impact on Inflation: Fluctuations in gasoline prices have a direct effect on inflation, as energy costs influence the prices of goods and services across the economy.\n",
    "- Influence on Consumer Spending: Changes in gasoline prices affect consumers' disposable income, impacting overall consumer spending and economic activity.\n",
    "- Energy Market Dynamics: Including gasoline prices in your model will help capture the impact of energy market disruptions, such as those caused by the Russia-Ukraine conflict."
   ]
  },
  {
   "cell_type": "code",
   "execution_count": 52,
   "id": "eb1c44dd-a8c2-44cc-a5a4-25cdccf30a54",
   "metadata": {},
   "outputs": [
    {
     "data": {
      "text/html": [
       "<div>\n",
       "<style scoped>\n",
       "    .dataframe tbody tr th:only-of-type {\n",
       "        vertical-align: middle;\n",
       "    }\n",
       "\n",
       "    .dataframe tbody tr th {\n",
       "        vertical-align: top;\n",
       "    }\n",
       "\n",
       "    .dataframe thead th {\n",
       "        text-align: right;\n",
       "    }\n",
       "</style>\n",
       "<table border=\"1\" class=\"dataframe\">\n",
       "  <thead>\n",
       "    <tr style=\"text-align: right;\">\n",
       "      <th></th>\n",
       "      <th>Date</th>\n",
       "      <th>Price</th>\n",
       "      <th>Open</th>\n",
       "      <th>High</th>\n",
       "      <th>Low</th>\n",
       "      <th>Vol.</th>\n",
       "      <th>Change %</th>\n",
       "    </tr>\n",
       "  </thead>\n",
       "  <tbody>\n",
       "    <tr>\n",
       "      <th>0</th>\n",
       "      <td>11/1/2024</td>\n",
       "      <td>98.1972</td>\n",
       "      <td>97.3723</td>\n",
       "      <td>100.4089</td>\n",
       "      <td>95.4790</td>\n",
       "      <td>NaN</td>\n",
       "      <td>0.85%</td>\n",
       "    </tr>\n",
       "    <tr>\n",
       "      <th>1</th>\n",
       "      <td>10/1/2024</td>\n",
       "      <td>97.3705</td>\n",
       "      <td>92.9100</td>\n",
       "      <td>100.3000</td>\n",
       "      <td>92.7000</td>\n",
       "      <td>NaN</td>\n",
       "      <td>4.70%</td>\n",
       "    </tr>\n",
       "    <tr>\n",
       "      <th>2</th>\n",
       "      <td>9/1/2024</td>\n",
       "      <td>93.0009</td>\n",
       "      <td>91.5385</td>\n",
       "      <td>94.3637</td>\n",
       "      <td>87.0744</td>\n",
       "      <td>NaN</td>\n",
       "      <td>2.59%</td>\n",
       "    </tr>\n",
       "  </tbody>\n",
       "</table>\n",
       "</div>"
      ],
      "text/plain": [
       "        Date    Price     Open      High      Low  Vol. Change %\n",
       "0  11/1/2024  98.1972  97.3723  100.4089  95.4790   NaN    0.85%\n",
       "1  10/1/2024  97.3705  92.9100  100.3000  92.7000   NaN    4.70%\n",
       "2   9/1/2024  93.0009  91.5385   94.3637  87.0744   NaN    2.59%"
      ]
     },
     "execution_count": 52,
     "metadata": {},
     "output_type": "execute_result"
    }
   ],
   "source": [
    "df13 = pd.read_csv('USD_RUB Historical Data_Investing.com.csv')\n",
    "df13.head(3)"
   ]
  },
  {
   "cell_type": "code",
   "execution_count": 53,
   "id": "e6b3b995-61e4-415e-ac50-5bb5d5c10f38",
   "metadata": {},
   "outputs": [
    {
     "data": {
      "text/plain": [
       "Index(['Date', 'Price', 'Open', 'High', 'Low', 'Vol.', 'Change %'], dtype='object')"
      ]
     },
     "execution_count": 53,
     "metadata": {},
     "output_type": "execute_result"
    }
   ],
   "source": [
    "df13.columns"
   ]
  },
  {
   "cell_type": "code",
   "execution_count": 54,
   "id": "88c5fa86-ce35-44af-8e1d-e7698989bcd4",
   "metadata": {},
   "outputs": [],
   "source": [
    "df_USD_Rubble_Conv = preprocess_and_filter_dates(df13,\n",
    "                                               date_column='Date',\n",
    "                                               EXP4621='US_Export_to_Russia',\n",
    "                                               drop_columns=['Open', 'High', 'Low', 'Vol.', 'Change %'])"
   ]
  },
  {
   "cell_type": "code",
   "execution_count": 55,
   "id": "d7b8a114-5532-43c3-b8db-16f28cfe9106",
   "metadata": {},
   "outputs": [
    {
     "name": "stdout",
     "output_type": "stream",
     "text": [
      "        Date   Price\n",
      "0 2013-01-01  30.030\n",
      "1 2013-02-01  30.650\n",
      "2 2013-03-01  31.078\n",
      "          Date    Price\n",
      "137 2024-06-01  85.5332\n",
      "138 2024-07-01  85.9988\n",
      "139 2024-08-01  90.6509\n"
     ]
    }
   ],
   "source": [
    "print(df_USD_Rubble_Conv.head(3))\n",
    "print(df_USD_Rubble_Conv.tail(3))"
   ]
  },
  {
   "cell_type": "markdown",
   "id": "bcb615aa-77af-4928-9534-3548cf78e6d6",
   "metadata": {},
   "source": [
    "## Volatility Index"
   ]
  },
  {
   "cell_type": "markdown",
   "id": "43c64a77-459e-4170-b92e-3b7d359f3dcd",
   "metadata": {},
   "source": [
    "For the Volatility Index (VIX) data, the \"CLOSE\" column is typically the variable of interest for our model.\n",
    "\n",
    "**Why \"CLOSE\"?**\n",
    "- The CLOSE value represents the final VIX value for each trading day, giving a summary measure of market volatility for that day. In your econometric model, you are likely working with monthly data, so you would typically aggregate the daily VIX data to a monthly level (e.g., using the average or end-of-month closing value).\n",
    "\n",
    "**Importance of VIX Data for Your Model:**\n",
    "- Indicator of Market Sentiment: The VIX measures the market's expectations of near-term volatility, often referred to as the \"fear gauge.\" High VIX values indicate high market uncertainty, while low values suggest market stability.\n",
    "- Impact of Geopolitical Events: The Russia-Ukraine conflict may have increased market uncertainty, affecting investor behavior and economic conditions. The VIX can help quantify the market's reaction to such geopolitical shocks.\n",
    "- Interaction with Economic Variables: Including the VIX in your VAR model can help capture the relationship between market volatility and other economic indicators like inflation, gasoline prices, and consumer sentiment, providing insights into how financial markets respond to economic disruptions."
   ]
  },
  {
   "cell_type": "code",
   "execution_count": 56,
   "id": "a6681624-5992-42e7-987d-58e34b42d7a9",
   "metadata": {},
   "outputs": [
    {
     "data": {
      "text/html": [
       "<div>\n",
       "<style scoped>\n",
       "    .dataframe tbody tr th:only-of-type {\n",
       "        vertical-align: middle;\n",
       "    }\n",
       "\n",
       "    .dataframe tbody tr th {\n",
       "        vertical-align: top;\n",
       "    }\n",
       "\n",
       "    .dataframe thead th {\n",
       "        text-align: right;\n",
       "    }\n",
       "</style>\n",
       "<table border=\"1\" class=\"dataframe\">\n",
       "  <thead>\n",
       "    <tr style=\"text-align: right;\">\n",
       "      <th></th>\n",
       "      <th>DATE</th>\n",
       "      <th>OPEN</th>\n",
       "      <th>HIGH</th>\n",
       "      <th>LOW</th>\n",
       "      <th>CLOSE</th>\n",
       "    </tr>\n",
       "  </thead>\n",
       "  <tbody>\n",
       "    <tr>\n",
       "      <th>0</th>\n",
       "      <td>01/02/1990</td>\n",
       "      <td>17.24</td>\n",
       "      <td>17.24</td>\n",
       "      <td>17.24</td>\n",
       "      <td>17.24</td>\n",
       "    </tr>\n",
       "    <tr>\n",
       "      <th>1</th>\n",
       "      <td>01/03/1990</td>\n",
       "      <td>18.19</td>\n",
       "      <td>18.19</td>\n",
       "      <td>18.19</td>\n",
       "      <td>18.19</td>\n",
       "    </tr>\n",
       "    <tr>\n",
       "      <th>2</th>\n",
       "      <td>01/04/1990</td>\n",
       "      <td>19.22</td>\n",
       "      <td>19.22</td>\n",
       "      <td>19.22</td>\n",
       "      <td>19.22</td>\n",
       "    </tr>\n",
       "  </tbody>\n",
       "</table>\n",
       "</div>"
      ],
      "text/plain": [
       "         DATE   OPEN   HIGH    LOW  CLOSE\n",
       "0  01/02/1990  17.24  17.24  17.24  17.24\n",
       "1  01/03/1990  18.19  18.19  18.19  18.19\n",
       "2  01/04/1990  19.22  19.22  19.22  19.22"
      ]
     },
     "execution_count": 56,
     "metadata": {},
     "output_type": "execute_result"
    }
   ],
   "source": [
    "df14 =pd.read_csv('VIX_History_CBOE Global Markets.csv')\n",
    "df14.head(3)"
   ]
  },
  {
   "cell_type": "code",
   "execution_count": 57,
   "id": "95b129a8-54b8-43cc-8978-668207ea274c",
   "metadata": {},
   "outputs": [
    {
     "name": "stdout",
     "output_type": "stream",
     "text": [
      "       CLOSE       DATE\n",
      "0  23.347273 1990-01-01\n",
      "1  23.262632 1990-02-01\n",
      "2  20.062273 1990-03-01\n",
      "3  21.403500 1990-04-01\n",
      "4  18.097727 1990-05-01\n"
     ]
    }
   ],
   "source": [
    "df14['DATE'] = pd.to_datetime(df14['DATE']) \n",
    "\n",
    "# Extract the year and month from the DATE\n",
    "df14['YearMonth'] = df14['DATE'].dt.to_period('M')\n",
    "\n",
    "# Group by YearMonth and aggregate\n",
    "monthly_df = df14.groupby('YearMonth').agg({\n",
    "    'CLOSE': 'mean'  # Use 'mean' for the average VIX value per month\n",
    "}).reset_index()\n",
    "\n",
    "# Convert YearMonth back to a datetime object (first day of the month)\n",
    "monthly_df['DATE'] = monthly_df['YearMonth'].dt.to_timestamp()\n",
    "\n",
    "# Drop the YearMonth column \n",
    "monthly_df = monthly_df.drop(columns=['YearMonth'])\n",
    "print(monthly_df.head())"
   ]
  },
  {
   "cell_type": "code",
   "execution_count": 58,
   "id": "a98ebbe1-9a4c-4bb7-b3d3-c05381ea8c27",
   "metadata": {},
   "outputs": [],
   "source": [
    "df_US_Market_Monthly_Volatility = preprocess_and_filter_dates(monthly_df,\n",
    "                                               date_column='DATE',\n",
    "                                               CLOSE='US_Mean_Monthly_Market_Volatility')"
   ]
  },
  {
   "cell_type": "code",
   "execution_count": 59,
   "id": "3623eb7b-a207-44de-8846-dfa9574eb40c",
   "metadata": {},
   "outputs": [
    {
     "name": "stdout",
     "output_type": "stream",
     "text": [
      "   US_Mean_Monthly_Market_Volatility       Date\n",
      "0                          13.505238 2013-01-01\n",
      "1                          14.072632 2013-02-01\n",
      "2                          13.031500 2013-03-01\n",
      "     US_Mean_Monthly_Market_Volatility       Date\n",
      "137                          12.667000 2024-06-01\n",
      "138                          14.373913 2024-07-01\n",
      "139                          19.312273 2024-08-01\n"
     ]
    }
   ],
   "source": [
    "print(df_US_Market_Monthly_Volatility.head(3))\n",
    "print(df_US_Market_Monthly_Volatility.tail(3))"
   ]
  },
  {
   "cell_type": "code",
   "execution_count": null,
   "id": "7a416297-510b-4c66-a406-2dd564c65aea",
   "metadata": {},
   "outputs": [],
   "source": []
  },
  {
   "cell_type": "markdown",
   "id": "626f989f-4647-4b2d-91b0-836e6c34ae5a",
   "metadata": {},
   "source": [
    "# Consolidated Dataset for Modelling"
   ]
  },
  {
   "cell_type": "code",
   "execution_count": 62,
   "id": "bca483be-a1ce-47eb-9fe9-6f8398ec6992",
   "metadata": {},
   "outputs": [],
   "source": [
    "dataframes = [df_Global_Shipping_Cost,\n",
    "                df_Crude_Oil_Prices_Monthly,\n",
    "                df_Federal_Funds_Rate,\n",
    "                df_inflation_cpi,\n",
    "                df_nominal_broad_usd_index,\n",
    "                df_producer_price_index_all_commodities,\n",
    "                df_sp500,\n",
    "                df_US_Export_Goods_Russia,\n",
    "                df_US_Unemployment_Rate,\n",
    "                df_US_Consumer_Sentiment,\n",
    "                df_Gasoline_Dollar_Per_Barrel,\n",
    "                df_USD_Rubble_Conv,\n",
    "                df_US_Market_Monthly_Volatility]"
   ]
  },
  {
   "cell_type": "code",
   "execution_count": 63,
   "id": "3f088cb5-cd68-4667-a277-91a5a9a3bfd4",
   "metadata": {},
   "outputs": [
    {
     "data": {
      "text/html": [
       "<div>\n",
       "<style scoped>\n",
       "    .dataframe tbody tr th:only-of-type {\n",
       "        vertical-align: middle;\n",
       "    }\n",
       "\n",
       "    .dataframe tbody tr th {\n",
       "        vertical-align: top;\n",
       "    }\n",
       "\n",
       "    .dataframe thead th {\n",
       "        text-align: right;\n",
       "    }\n",
       "</style>\n",
       "<table border=\"1\" class=\"dataframe\">\n",
       "  <thead>\n",
       "    <tr style=\"text-align: right;\">\n",
       "      <th></th>\n",
       "      <th>Date</th>\n",
       "      <th>Average_Hourly_Earning</th>\n",
       "      <th>Trade_Volume_Pct_Change_Index_Value</th>\n",
       "      <th>US_Crude_Oil_Prices_Dollar_Per_Barrel</th>\n",
       "      <th>Federal_Rates_Monthly</th>\n",
       "      <th>CPI_Value_Inflation</th>\n",
       "      <th>Nominal_Broad_US_Dollar_Index</th>\n",
       "      <th>producer_price_index_all_commodities</th>\n",
       "      <th>Adjusted_Closing_Price</th>\n",
       "      <th>US_Export_to_Russia</th>\n",
       "      <th>US_Unemployment_Rate</th>\n",
       "      <th>US_Consumer_Sentiment</th>\n",
       "      <th>US_Gasoline_Dollars_Per_Barrel</th>\n",
       "      <th>Price</th>\n",
       "      <th>US_Mean_Monthly_Market_Volatility</th>\n",
       "    </tr>\n",
       "  </thead>\n",
       "  <tbody>\n",
       "    <tr>\n",
       "      <th>0</th>\n",
       "      <td>2013-01-01</td>\n",
       "      <td>23.75</td>\n",
       "      <td>0.004045</td>\n",
       "      <td>95.00</td>\n",
       "      <td>0.14</td>\n",
       "      <td>230.280</td>\n",
       "      <td>90.8255</td>\n",
       "      <td>202.5</td>\n",
       "      <td>1498.11</td>\n",
       "      <td>692.919960</td>\n",
       "      <td>8.0</td>\n",
       "      <td>73.8</td>\n",
       "      <td>3.319</td>\n",
       "      <td>30.030</td>\n",
       "      <td>13.505238</td>\n",
       "    </tr>\n",
       "    <tr>\n",
       "      <th>1</th>\n",
       "      <td>2013-02-01</td>\n",
       "      <td>23.78</td>\n",
       "      <td>-0.000250</td>\n",
       "      <td>95.01</td>\n",
       "      <td>0.15</td>\n",
       "      <td>232.166</td>\n",
       "      <td>91.5509</td>\n",
       "      <td>204.3</td>\n",
       "      <td>1514.68</td>\n",
       "      <td>1008.624490</td>\n",
       "      <td>7.7</td>\n",
       "      <td>77.6</td>\n",
       "      <td>3.670</td>\n",
       "      <td>30.650</td>\n",
       "      <td>14.072632</td>\n",
       "    </tr>\n",
       "    <tr>\n",
       "      <th>2</th>\n",
       "      <td>2013-03-01</td>\n",
       "      <td>23.80</td>\n",
       "      <td>0.009400</td>\n",
       "      <td>95.54</td>\n",
       "      <td>0.14</td>\n",
       "      <td>232.773</td>\n",
       "      <td>92.4132</td>\n",
       "      <td>204.0</td>\n",
       "      <td>1569.19</td>\n",
       "      <td>917.892441</td>\n",
       "      <td>7.5</td>\n",
       "      <td>78.6</td>\n",
       "      <td>3.711</td>\n",
       "      <td>31.078</td>\n",
       "      <td>13.031500</td>\n",
       "    </tr>\n",
       "    <tr>\n",
       "      <th>3</th>\n",
       "      <td>2013-04-01</td>\n",
       "      <td>23.87</td>\n",
       "      <td>-0.002476</td>\n",
       "      <td>94.41</td>\n",
       "      <td>0.15</td>\n",
       "      <td>232.531</td>\n",
       "      <td>92.0478</td>\n",
       "      <td>203.5</td>\n",
       "      <td>1597.57</td>\n",
       "      <td>1087.226442</td>\n",
       "      <td>7.6</td>\n",
       "      <td>76.4</td>\n",
       "      <td>3.570</td>\n",
       "      <td>31.128</td>\n",
       "      <td>13.967273</td>\n",
       "    </tr>\n",
       "    <tr>\n",
       "      <th>4</th>\n",
       "      <td>2013-05-01</td>\n",
       "      <td>23.89</td>\n",
       "      <td>-0.003095</td>\n",
       "      <td>94.75</td>\n",
       "      <td>0.11</td>\n",
       "      <td>232.945</td>\n",
       "      <td>92.5290</td>\n",
       "      <td>204.1</td>\n",
       "      <td>1630.74</td>\n",
       "      <td>781.571515</td>\n",
       "      <td>7.5</td>\n",
       "      <td>84.5</td>\n",
       "      <td>3.615</td>\n",
       "      <td>31.922</td>\n",
       "      <td>13.493636</td>\n",
       "    </tr>\n",
       "  </tbody>\n",
       "</table>\n",
       "</div>"
      ],
      "text/plain": [
       "        Date  Average_Hourly_Earning  Trade_Volume_Pct_Change_Index_Value  \\\n",
       "0 2013-01-01                   23.75                             0.004045   \n",
       "1 2013-02-01                   23.78                            -0.000250   \n",
       "2 2013-03-01                   23.80                             0.009400   \n",
       "3 2013-04-01                   23.87                            -0.002476   \n",
       "4 2013-05-01                   23.89                            -0.003095   \n",
       "\n",
       "   US_Crude_Oil_Prices_Dollar_Per_Barrel  Federal_Rates_Monthly  \\\n",
       "0                                  95.00                   0.14   \n",
       "1                                  95.01                   0.15   \n",
       "2                                  95.54                   0.14   \n",
       "3                                  94.41                   0.15   \n",
       "4                                  94.75                   0.11   \n",
       "\n",
       "   CPI_Value_Inflation  Nominal_Broad_US_Dollar_Index  \\\n",
       "0              230.280                        90.8255   \n",
       "1              232.166                        91.5509   \n",
       "2              232.773                        92.4132   \n",
       "3              232.531                        92.0478   \n",
       "4              232.945                        92.5290   \n",
       "\n",
       "   producer_price_index_all_commodities  Adjusted_Closing_Price  \\\n",
       "0                                 202.5                 1498.11   \n",
       "1                                 204.3                 1514.68   \n",
       "2                                 204.0                 1569.19   \n",
       "3                                 203.5                 1597.57   \n",
       "4                                 204.1                 1630.74   \n",
       "\n",
       "   US_Export_to_Russia  US_Unemployment_Rate  US_Consumer_Sentiment  \\\n",
       "0           692.919960                   8.0                   73.8   \n",
       "1          1008.624490                   7.7                   77.6   \n",
       "2           917.892441                   7.5                   78.6   \n",
       "3          1087.226442                   7.6                   76.4   \n",
       "4           781.571515                   7.5                   84.5   \n",
       "\n",
       "   US_Gasoline_Dollars_Per_Barrel   Price  US_Mean_Monthly_Market_Volatility  \n",
       "0                           3.319  30.030                          13.505238  \n",
       "1                           3.670  30.650                          14.072632  \n",
       "2                           3.711  31.078                          13.031500  \n",
       "3                           3.570  31.128                          13.967273  \n",
       "4                           3.615  31.922                          13.493636  "
      ]
     },
     "execution_count": 63,
     "metadata": {},
     "output_type": "execute_result"
    }
   ],
   "source": [
    "# Start with the first DataFrame\n",
    "merged_df = df_Avg_Hourly_Earning\n",
    "\n",
    "# Use a loop to join all other DataFrames on the Date column\n",
    "for df in dataframes:\n",
    "    merged_df = merged_df.join(df.set_index('Date'), on='Date', how='outer')\n",
    "\n",
    "merged_df.head(5)"
   ]
  },
  {
   "cell_type": "code",
   "execution_count": 64,
   "id": "d1972646-a112-4d43-b966-baff20173abc",
   "metadata": {},
   "outputs": [],
   "source": [
    "# Create the Russia Ukraine War Flag\n",
    "merged_df['Russia_Ukraine_Date_Flag'] = (merged_df['Date'] >= pd.Timestamp('2022-02-01')).astype(int) "
   ]
  },
  {
   "cell_type": "code",
   "execution_count": 67,
   "id": "e393d50b-f908-4022-923c-183841134331",
   "metadata": {},
   "outputs": [],
   "source": [
    "# Create the Covid Flag\n",
    "# Start Date - January 20, 2020\n",
    "# End Date - May 11, 2023\n",
    "\n",
    "# Create the Covid Flag\n",
    "merged_df['Covid_Flag'] = (\n",
    "    (merged_df['Date'] >= pd.Timestamp('2020-01-20')) & \n",
    "    (merged_df['Date'] <= pd.Timestamp('2023-05-11'))\n",
    ").astype(int)"
   ]
  },
  {
   "cell_type": "code",
   "execution_count": 68,
   "id": "f017b9f1-b24b-4806-94ca-8188776e3cb1",
   "metadata": {},
   "outputs": [
    {
     "data": {
      "text/html": [
       "<div>\n",
       "<style scoped>\n",
       "    .dataframe tbody tr th:only-of-type {\n",
       "        vertical-align: middle;\n",
       "    }\n",
       "\n",
       "    .dataframe tbody tr th {\n",
       "        vertical-align: top;\n",
       "    }\n",
       "\n",
       "    .dataframe thead th {\n",
       "        text-align: right;\n",
       "    }\n",
       "</style>\n",
       "<table border=\"1\" class=\"dataframe\">\n",
       "  <thead>\n",
       "    <tr style=\"text-align: right;\">\n",
       "      <th></th>\n",
       "      <th>Date</th>\n",
       "      <th>Average_Hourly_Earning</th>\n",
       "      <th>Trade_Volume_Pct_Change_Index_Value</th>\n",
       "      <th>US_Crude_Oil_Prices_Dollar_Per_Barrel</th>\n",
       "      <th>Federal_Rates_Monthly</th>\n",
       "      <th>CPI_Value_Inflation</th>\n",
       "      <th>Nominal_Broad_US_Dollar_Index</th>\n",
       "      <th>producer_price_index_all_commodities</th>\n",
       "      <th>Adjusted_Closing_Price</th>\n",
       "      <th>US_Export_to_Russia</th>\n",
       "      <th>US_Unemployment_Rate</th>\n",
       "      <th>US_Consumer_Sentiment</th>\n",
       "      <th>US_Gasoline_Dollars_Per_Barrel</th>\n",
       "      <th>Price</th>\n",
       "      <th>US_Mean_Monthly_Market_Volatility</th>\n",
       "      <th>Russia_Ukraine_Date_Flag</th>\n",
       "      <th>Covid_Flag</th>\n",
       "    </tr>\n",
       "  </thead>\n",
       "  <tbody>\n",
       "    <tr>\n",
       "      <th>0</th>\n",
       "      <td>2013-01-01</td>\n",
       "      <td>23.75</td>\n",
       "      <td>0.004045</td>\n",
       "      <td>95.00</td>\n",
       "      <td>0.14</td>\n",
       "      <td>230.280</td>\n",
       "      <td>90.8255</td>\n",
       "      <td>202.5</td>\n",
       "      <td>1498.11</td>\n",
       "      <td>692.919960</td>\n",
       "      <td>8.0</td>\n",
       "      <td>73.8</td>\n",
       "      <td>3.319</td>\n",
       "      <td>30.030</td>\n",
       "      <td>13.505238</td>\n",
       "      <td>0</td>\n",
       "      <td>0</td>\n",
       "    </tr>\n",
       "    <tr>\n",
       "      <th>1</th>\n",
       "      <td>2013-02-01</td>\n",
       "      <td>23.78</td>\n",
       "      <td>-0.000250</td>\n",
       "      <td>95.01</td>\n",
       "      <td>0.15</td>\n",
       "      <td>232.166</td>\n",
       "      <td>91.5509</td>\n",
       "      <td>204.3</td>\n",
       "      <td>1514.68</td>\n",
       "      <td>1008.624490</td>\n",
       "      <td>7.7</td>\n",
       "      <td>77.6</td>\n",
       "      <td>3.670</td>\n",
       "      <td>30.650</td>\n",
       "      <td>14.072632</td>\n",
       "      <td>0</td>\n",
       "      <td>0</td>\n",
       "    </tr>\n",
       "    <tr>\n",
       "      <th>2</th>\n",
       "      <td>2013-03-01</td>\n",
       "      <td>23.80</td>\n",
       "      <td>0.009400</td>\n",
       "      <td>95.54</td>\n",
       "      <td>0.14</td>\n",
       "      <td>232.773</td>\n",
       "      <td>92.4132</td>\n",
       "      <td>204.0</td>\n",
       "      <td>1569.19</td>\n",
       "      <td>917.892441</td>\n",
       "      <td>7.5</td>\n",
       "      <td>78.6</td>\n",
       "      <td>3.711</td>\n",
       "      <td>31.078</td>\n",
       "      <td>13.031500</td>\n",
       "      <td>0</td>\n",
       "      <td>0</td>\n",
       "    </tr>\n",
       "    <tr>\n",
       "      <th>3</th>\n",
       "      <td>2013-04-01</td>\n",
       "      <td>23.87</td>\n",
       "      <td>-0.002476</td>\n",
       "      <td>94.41</td>\n",
       "      <td>0.15</td>\n",
       "      <td>232.531</td>\n",
       "      <td>92.0478</td>\n",
       "      <td>203.5</td>\n",
       "      <td>1597.57</td>\n",
       "      <td>1087.226442</td>\n",
       "      <td>7.6</td>\n",
       "      <td>76.4</td>\n",
       "      <td>3.570</td>\n",
       "      <td>31.128</td>\n",
       "      <td>13.967273</td>\n",
       "      <td>0</td>\n",
       "      <td>0</td>\n",
       "    </tr>\n",
       "    <tr>\n",
       "      <th>4</th>\n",
       "      <td>2013-05-01</td>\n",
       "      <td>23.89</td>\n",
       "      <td>-0.003095</td>\n",
       "      <td>94.75</td>\n",
       "      <td>0.11</td>\n",
       "      <td>232.945</td>\n",
       "      <td>92.5290</td>\n",
       "      <td>204.1</td>\n",
       "      <td>1630.74</td>\n",
       "      <td>781.571515</td>\n",
       "      <td>7.5</td>\n",
       "      <td>84.5</td>\n",
       "      <td>3.615</td>\n",
       "      <td>31.922</td>\n",
       "      <td>13.493636</td>\n",
       "      <td>0</td>\n",
       "      <td>0</td>\n",
       "    </tr>\n",
       "  </tbody>\n",
       "</table>\n",
       "</div>"
      ],
      "text/plain": [
       "        Date  Average_Hourly_Earning  Trade_Volume_Pct_Change_Index_Value  \\\n",
       "0 2013-01-01                   23.75                             0.004045   \n",
       "1 2013-02-01                   23.78                            -0.000250   \n",
       "2 2013-03-01                   23.80                             0.009400   \n",
       "3 2013-04-01                   23.87                            -0.002476   \n",
       "4 2013-05-01                   23.89                            -0.003095   \n",
       "\n",
       "   US_Crude_Oil_Prices_Dollar_Per_Barrel  Federal_Rates_Monthly  \\\n",
       "0                                  95.00                   0.14   \n",
       "1                                  95.01                   0.15   \n",
       "2                                  95.54                   0.14   \n",
       "3                                  94.41                   0.15   \n",
       "4                                  94.75                   0.11   \n",
       "\n",
       "   CPI_Value_Inflation  Nominal_Broad_US_Dollar_Index  \\\n",
       "0              230.280                        90.8255   \n",
       "1              232.166                        91.5509   \n",
       "2              232.773                        92.4132   \n",
       "3              232.531                        92.0478   \n",
       "4              232.945                        92.5290   \n",
       "\n",
       "   producer_price_index_all_commodities  Adjusted_Closing_Price  \\\n",
       "0                                 202.5                 1498.11   \n",
       "1                                 204.3                 1514.68   \n",
       "2                                 204.0                 1569.19   \n",
       "3                                 203.5                 1597.57   \n",
       "4                                 204.1                 1630.74   \n",
       "\n",
       "   US_Export_to_Russia  US_Unemployment_Rate  US_Consumer_Sentiment  \\\n",
       "0           692.919960                   8.0                   73.8   \n",
       "1          1008.624490                   7.7                   77.6   \n",
       "2           917.892441                   7.5                   78.6   \n",
       "3          1087.226442                   7.6                   76.4   \n",
       "4           781.571515                   7.5                   84.5   \n",
       "\n",
       "   US_Gasoline_Dollars_Per_Barrel   Price  US_Mean_Monthly_Market_Volatility  \\\n",
       "0                           3.319  30.030                          13.505238   \n",
       "1                           3.670  30.650                          14.072632   \n",
       "2                           3.711  31.078                          13.031500   \n",
       "3                           3.570  31.128                          13.967273   \n",
       "4                           3.615  31.922                          13.493636   \n",
       "\n",
       "   Russia_Ukraine_Date_Flag  Covid_Flag  \n",
       "0                         0           0  \n",
       "1                         0           0  \n",
       "2                         0           0  \n",
       "3                         0           0  \n",
       "4                         0           0  "
      ]
     },
     "execution_count": 68,
     "metadata": {},
     "output_type": "execute_result"
    }
   ],
   "source": [
    "merged_df.head()"
   ]
  },
  {
   "cell_type": "markdown",
   "id": "b303dbb0-d289-4c10-b0a9-6301656721aa",
   "metadata": {},
   "source": [
    "# Export the Dataset"
   ]
  },
  {
   "cell_type": "code",
   "execution_count": 69,
   "id": "f671fc1b-5405-4df9-9bb5-aec8df4822a7",
   "metadata": {},
   "outputs": [],
   "source": [
    "merged_df.to_csv('Econ_Project_Data_Consolidated.csv', index=False)"
   ]
  },
  {
   "cell_type": "code",
   "execution_count": null,
   "id": "3ce43cb3-2dc9-4e28-8452-cfa8f23b5296",
   "metadata": {},
   "outputs": [],
   "source": []
  }
 ],
 "metadata": {
  "kernelspec": {
   "display_name": "Python 3 (ipykernel)",
   "language": "python",
   "name": "python3"
  },
  "language_info": {
   "codemirror_mode": {
    "name": "ipython",
    "version": 3
   },
   "file_extension": ".py",
   "mimetype": "text/x-python",
   "name": "python",
   "nbconvert_exporter": "python",
   "pygments_lexer": "ipython3",
   "version": "3.10.15"
  }
 },
 "nbformat": 4,
 "nbformat_minor": 5
}
